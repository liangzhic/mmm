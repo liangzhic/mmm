{
 "cells": [
  {
   "cell_type": "markdown",
   "metadata": {
    "deletable": false,
    "editable": false,
    "nbgrader": {
     "checksum": "7c1db09e123e1665c08c16cc16dea378",
     "grade": false,
     "grade_id": "cell-f1fe9686d50a2312",
     "locked": true,
     "schema_version": 1,
     "solution": false
    }
   },
   "source": [
    "# Exercise 1: Working with Geometric Objects\n",
    "\n",
    "This week we will practice how to create geometric objects using Shapely module and how to find out different useful attributes from those geometries. We will take advantage of what we have learned earlier, specifically functions, that you should use for making different GIS operations easier to use in the future. We will also use Pandas to read data from a file.\n",
    "\n",
    "- **Exercise 1 is due by Wednesday 7.11 before the next practical session**.\n",
    "\n",
    "- Don't forget to check out the [hints for this week's exercise](https://automating-gis-processes.github.io/2018/lessons/L1/exercise-1.html) if you're having trouble.\n",
    "\n",
    "- Scores on this exercise are out of **20 points**."
   ]
  },
  {
   "cell_type": "markdown",
   "metadata": {
    "deletable": false,
    "editable": false,
    "nbgrader": {
     "checksum": "9bccde7255861010ba327f0d1b0492d9",
     "grade": false,
     "grade_id": "cell-5e977abb4d2dbf00",
     "locked": true,
     "schema_version": 1,
     "solution": false
    }
   },
   "source": [
    "## Problem 1: Creating basic geometries (*5 points*)\n",
    "\n",
    "\n",
    "1: Create a function called `create_point_geom()` that has two parameters (x_coord, y_coord). Function should create a shapely `Point` geometry object and return that. \n",
    "   "
   ]
  },
  {
   "cell_type": "code",
   "execution_count": 1,
   "metadata": {
    "collapsed": true,
    "deletable": false,
    "nbgrader": {
     "checksum": "096ea5379316fed8ac10757c92e8b88a",
     "grade": false,
     "grade_id": "point-geom",
     "locked": false,
     "schema_version": 1,
     "solution": true
    }
   },
   "outputs": [],
   "source": [
    "# Import necessary geometric objects from shapely module\n",
    "from shapely.geometry import Point, LineString, Polygon"
   ]
  },
  {
   "cell_type": "code",
   "execution_count": 47,
   "metadata": {
    "collapsed": true,
    "deletable": false,
    "editable": false,
    "nbgrader": {
     "checksum": "0637659f8509d1a4d21f0851fe3fe7c8",
     "grade": true,
     "grade_id": "point-geom-tests",
     "locked": true,
     "points": 1.5,
     "schema_version": 1,
     "solution": false
    }
   },
   "outputs": [],
   "source": [
    "# define a function\n",
    "def create_point_geom(x_coord, y_coord):\n",
    "    '''\n",
    "    This function is used to create geometry points\n",
    "    input\n",
    "    x_coord: x-coordinate  \n",
    "    y_coord: y-coordinate\n",
    "    ---------------------------\n",
    "    output\n",
    "    shapely Point geometry object \n",
    "    \n",
    "    '''\n",
    "    return Point(x_coord, y_coord) "
   ]
  },
  {
   "cell_type": "markdown",
   "metadata": {
    "deletable": false,
    "editable": false,
    "nbgrader": {
     "checksum": "d411d01c8c4a4d8f91120e9ddd6a62a9",
     "grade": false,
     "grade_id": "cell-0981523a6c41d531",
     "locked": true,
     "schema_version": 1,
     "solution": false
    }
   },
   "source": [
    "2: Create a function called **`create_line_geom()`** that takes a list of Shapely Point objects as parameter called **`points`** and returns a LineString object of those input points. In addition, you should take care that the function is used as it should:\n",
    "\n",
    "  - Inside the function, you should first check with `assert` -functionality that the input is a **list** (see [lesson 6](https://geo-python.github.io/2018/lessons/L6/interpreting-errors.html#assertions) and [hints](https://automating-gis-processes.github.io/2018/lessons/L1/exercise-1.html#hints)). If something else than a list is passed for the function, you should return an Error message: `\"Input should be a list!\"`\n",
    "  - You should also check with `assert` that the input list contains **at least** two values. If not, return an Error message: `\"LineString object requires at least two Points!\"`\n",
    "  - Optional: Finally, you should check with `assert` that all values in the input list are truly Shapely Points. If not, return an Error message: `\"All list values should be Shapely Point objects!\"`\n",
    "  "
   ]
  },
  {
   "cell_type": "code",
   "execution_count": 67,
   "metadata": {
    "collapsed": false,
    "deletable": false,
    "nbgrader": {
     "checksum": "93f9c735d3acdb63c62a23d0427843fe",
     "grade": false,
     "grade_id": "line-geom",
     "locked": false,
     "schema_version": 1,
     "solution": true
    }
   },
   "outputs": [],
   "source": [
    "# define a function\n",
    "def create_line_geom(points):\n",
    "    '''\n",
    "    This function is used to create geometry lines\n",
    "    input\n",
    "    points: geomatry points\n",
    "    ----------------------------\n",
    "    output\n",
    "    LineString\n",
    "    '''\n",
    "    assert type(points) in [list], \"Input should be a list!\"\n",
    "    assert len(points) > 1,\"LineString object requires at least two Points!\"\n",
    "    for p in points:\n",
    "        assert (type(create_point_geom(p[0],p[1]))==Point),\"All list values should be Shapely Point objects!\"\n",
    "    return LineString(points) "
   ]
  },
  {
   "cell_type": "code",
   "execution_count": 68,
   "metadata": {
    "collapsed": false,
    "deletable": false,
    "editable": false,
    "nbgrader": {
     "checksum": "0ab5ea57146a6dcf1819f546025448a5",
     "grade": true,
     "grade_id": "line-geom-tests",
     "locked": true,
     "points": 1.5,
     "schema_version": 1,
     "solution": false
    }
   },
   "outputs": [
    {
     "data": {
      "image/svg+xml": [
       "<svg xmlns=\"http://www.w3.org/2000/svg\" xmlns:xlink=\"http://www.w3.org/1999/xlink\" width=\"100.0\" height=\"100.0\" viewBox=\"42.9992 -5.4008 59.4216 29.9416\" preserveAspectRatio=\"xMinYMin meet\"><g transform=\"matrix(1,0,0,-1,0,19.14)\"><polyline fill=\"none\" stroke=\"#66cc99\" stroke-width=\"1.188432\" points=\"45.2,22.34 100.22,-3.2\" opacity=\"0.8\" /></g></svg>"
      ],
      "text/plain": [
       "<shapely.geometry.linestring.LineString at 0x7f300782ecc0>"
      ]
     },
     "execution_count": 68,
     "metadata": {},
     "output_type": "execute_result"
    }
   ],
   "source": [
    "# Demonstrate the usage of the function:\n",
    "\n",
    "# Create a line with two points: Point(45.2, 22.34) & Point(100.22, -3.20)\n",
    "create_line_geom( [ (45.2, 22.34),(100.22, -3.20) ] )\n"
   ]
  },
  {
   "cell_type": "markdown",
   "metadata": {
    "deletable": false,
    "editable": false,
    "nbgrader": {
     "checksum": "9c1371c15610a21d1109c01966ef3177",
     "grade": false,
     "grade_id": "cell-df69a314f0ebf463",
     "locked": true,
     "schema_version": 1,
     "solution": false
    }
   },
   "source": [
    "3: Create a function called **`create_poly_geom()`** that has one parameter called **`coords`**. `coords` parameter contain a list of Shapely Point objects. The function should create and return a Polygon object of the input data.  \n",
    "\n",
    "  - Inside the function, you should first check with `assert` -functionality that the input is a **list** (see [lesson 6](https://geo-python.github.io/2018/lessons/L6/interpreting-errors.html#assertions) and [hints](https://automating-gis-processes.github.io/2018/lessons/L1/exercise-1.html#hints)). If something else than a list is passed for the function, you should return an Error message: `\"Input should be a list!\"`\n",
    "  - You should also check with `assert` that the input list contains **at least** three values. If not, return an Error message: `\"Polygon object requires at least three Points!\"`\n",
    "  - Optional: Finally, you should check with assert that all values in the input list are Shapely Points or tuples. If not, return an Error message: \"All list values should be Shapely Point objects!\"\n",
    "  "
   ]
  },
  {
   "cell_type": "code",
   "execution_count": 76,
   "metadata": {
    "collapsed": false,
    "deletable": false,
    "nbgrader": {
     "checksum": "da686368d72970aa11af0031542cb59e",
     "grade": false,
     "grade_id": "poly-geom",
     "locked": false,
     "schema_version": 1,
     "solution": true
    }
   },
   "outputs": [],
   "source": [
    "# define a function\n",
    "def create_poly_geom(coords):\n",
    "    '''\n",
    "    This function is used to create geometry polygon\n",
    "    input\n",
    "    points: geomatry points\n",
    "    ----------------------------\n",
    "    output \n",
    "    Polygon\n",
    "    '''\n",
    "    assert type(coords) in [list], \"Input should be a list!\"\n",
    "    assert len(coords) > 2,\"Polygon object requires at least three Points!\"\n",
    "    for p in coords:\n",
    "        assert (type(create_point_geom(p[0],p[1]))==Point),\"All list values should be Shapely Point objects!\"\n",
    "    return Polygon(coords)"
   ]
  },
  {
   "cell_type": "code",
   "execution_count": 75,
   "metadata": {
    "collapsed": false,
    "deletable": false,
    "editable": false,
    "nbgrader": {
     "checksum": "c958c5b8d0aba52dd0203797999bf374",
     "grade": true,
     "grade_id": "poly-geom-tests",
     "locked": true,
     "points": 2,
     "schema_version": 1,
     "solution": false
    }
   },
   "outputs": [
    {
     "data": {
      "image/svg+xml": [
       "<svg xmlns=\"http://www.w3.org/2000/svg\" xmlns:xlink=\"http://www.w3.org/1999/xlink\" width=\"100.0\" height=\"100.0\" viewBox=\"42.9992 -5.4008 59.4216 29.9416\" preserveAspectRatio=\"xMinYMin meet\"><g transform=\"matrix(1,0,0,-1,0,19.14)\"><path fill-rule=\"evenodd\" fill=\"#66cc99\" stroke=\"#555555\" stroke-width=\"1.188432\" opacity=\"0.6\" d=\"M 45.2,22.34 L 100.22,-3.2 L 70.0,10.2 L 45.2,22.34 z\" /></g></svg>"
      ],
      "text/plain": [
       "<shapely.geometry.polygon.Polygon at 0x7f30078192b0>"
      ]
     },
     "execution_count": 75,
     "metadata": {},
     "output_type": "execute_result"
    }
   ],
   "source": [
    "# Demonstrate the usage of the function:\n",
    "\n",
    "# Create a Polygon with three points: Point(45.2, 22.34) & Point(100.22, -3.20) & Point(70.0, 10.20)\n",
    "create_poly_geom( [ (45.2, 22.34),(100.22, -3.20),(70.0, 10.20) ] )\n"
   ]
  },
  {
   "cell_type": "markdown",
   "metadata": {
    "deletable": false,
    "editable": false,
    "nbgrader": {
     "checksum": "69699af632eeb2e022ddf373f0de7095",
     "grade": false,
     "grade_id": "cell-033b613c14e30473",
     "locked": true,
     "schema_version": 1,
     "solution": false
    }
   },
   "source": [
    "- Upload the codes and edits to your **own** personal GitHub repository for Exercise-1 in AutoGIS-2018.\n",
    "\n",
    "## Done!\n",
    "\n",
    "That's it. Now you are ready to continue with Problem 2. "
   ]
  },
  {
   "cell_type": "markdown",
   "metadata": {
    "deletable": false,
    "editable": false,
    "nbgrader": {
     "checksum": "6cf7f8d1530538b70a2123e4219f53ee",
     "grade": false,
     "grade_id": "cell-296bf5f22c9d3731",
     "locked": true,
     "schema_version": 1,
     "solution": false
    }
   },
   "source": [
    "## Problem 2: Attributes of geometries (*5 points*)\n",
    "\n",
    "1: Create a function called `get_centroid()` that has one parameter called `geom`. The function should take any kind of Shapely's geometric -object as an input, and return a centroid of that geometry. In addition, you should take care that the function is used as it should:\n",
    "\n",
    "  - Inside the function, you should first check with `assert` -functionality that the input is a Shapely Point, LineString or Polygon geometry (see [lesson 6](https://geo-python.github.io/2018/lessons/L6/interpreting-errors.html#assertions) and [hints](https://automating-gis-processes.github.io/2018/lessons/L1/exercise-1.html#hints)). If something else than a list is passed for the function, you should return an Error message: `\"Input should be a Shapely geometry!\"`\n"
   ]
  },
  {
   "cell_type": "code",
   "execution_count": 81,
   "metadata": {
    "collapsed": true,
    "deletable": false,
    "nbgrader": {
     "checksum": "44a080944389bfb3e1181325231a50a4",
     "grade": false,
     "grade_id": "centroid",
     "locked": false,
     "schema_version": 1,
     "solution": true
    }
   },
   "outputs": [],
   "source": [
    "# define a function\n",
    "def get_centroid(geom):\n",
    "    '''\n",
    "    This function is used to get the centroid of a geometry\n",
    "    input\n",
    "    geo\n",
    "    ----------------------------\n",
    "    output\n",
    "    a centroid of geom\n",
    "    '''\n",
    "    assert type(geom) in [Point,LineString,Polygon],\"Input should be a Shapely geometry!\"\n",
    "    return geom.centroid   "
   ]
  },
  {
   "cell_type": "code",
   "execution_count": 82,
   "metadata": {
    "collapsed": false,
    "deletable": false,
    "editable": false,
    "nbgrader": {
     "checksum": "634a7b0fa5933e540ee52cbdb52ecae2",
     "grade": true,
     "grade_id": "centroid-test",
     "locked": true,
     "points": 1.5,
     "schema_version": 1,
     "solution": false
    }
   },
   "outputs": [
    {
     "data": {
      "image/svg+xml": [
       "<svg xmlns=\"http://www.w3.org/2000/svg\" xmlns:xlink=\"http://www.w3.org/1999/xlink\" width=\"100.0\" height=\"100.0\" viewBox=\"71.71000000000001 8.57 2.0 2.0\" preserveAspectRatio=\"xMinYMin meet\"><g transform=\"matrix(1,0,0,-1,0,19.14)\"><circle cx=\"72.71000000000001\" cy=\"9.57\" r=\"0.06\" stroke=\"#555555\" stroke-width=\"0.02\" fill=\"#66cc99\" opacity=\"0.6\" /></g></svg>"
      ],
      "text/plain": [
       "<shapely.geometry.point.Point at 0x7f3007aabf28>"
      ]
     },
     "execution_count": 82,
     "metadata": {},
     "output_type": "execute_result"
    }
   ],
   "source": [
    "# Demonstrate the usage of the function - You can take advantage of the 'create_line_geom' -function:\n",
    "\n",
    "# Create a line with two points: Point(45.2, 22.34) & Point(100.22, -3.20)\n",
    "myline = create_line_geom( [(45.2, 22.34),(100.22, -3.20)] )\n",
    "\n",
    "# What is the centroid of this line? Print the answer below by using the 'get_centroid' -function:\n",
    "get_centroid(myline)"
   ]
  },
  {
   "cell_type": "markdown",
   "metadata": {
    "deletable": false,
    "editable": false,
    "nbgrader": {
     "checksum": "63c13e5bdad88c707be03c68f90e54c2",
     "grade": false,
     "grade_id": "cell-f852a6d46065d4e2",
     "locked": true,
     "schema_version": 1,
     "solution": false
    }
   },
   "source": [
    "2: Create a function called `get_area()` with one parameter called `polygon`. Function should take a Shapely's Polygon -object as input and returns the area of that geometry. \n",
    "   \n",
    "   - Inside the function, you should first check with `assert` -functionality that the input is a Shapely Polygon geometry (see [lesson 6](https://geo-python.github.io/2018/lessons/L6/interpreting-errors.html#assertions) and [hints](https://automating-gis-processes.github.io/2018/lessons/L1/exercise-1.html#hints)). If something else than a list is passed for the function, you should return an Error message: `\"Input should be a Shapely Polygon -object!\"`"
   ]
  },
  {
   "cell_type": "code",
   "execution_count": 87,
   "metadata": {
    "collapsed": true,
    "deletable": false,
    "nbgrader": {
     "checksum": "8c660594baa70b087a43492b6ef36758",
     "grade": false,
     "grade_id": "area",
     "locked": false,
     "schema_version": 1,
     "solution": true
    }
   },
   "outputs": [],
   "source": [
    "# define a function\n",
    "def get_area(polygon):\n",
    "    '''\n",
    "    This function is used to get the area of a geometry\n",
    "    input\n",
    "    polygon\n",
    "    ----------------------------\n",
    "    output\n",
    "    the area of geom\n",
    "    '''\n",
    "    assert type(polygon) in [Polygon],\"Input should be a Shapely Polygon -object!\"\n",
    "    return polygon.area"
   ]
  },
  {
   "cell_type": "code",
   "execution_count": 90,
   "metadata": {
    "collapsed": false,
    "deletable": false,
    "editable": false,
    "nbgrader": {
     "checksum": "0641fc63479f2e2b0538632f0c0706ba",
     "grade": true,
     "grade_id": "area-test",
     "locked": true,
     "points": 1.5,
     "schema_version": 1,
     "solution": false
    }
   },
   "outputs": [
    {
     "name": "stdout",
     "output_type": "stream",
     "text": [
      "The area of this Polygon is  17.27539999999999\n"
     ]
    }
   ],
   "source": [
    "# Demonstrate the usage of the function \n",
    "\n",
    "# Create a Polygon with three points: Point(45.2, 22.34) & Point(100.22, -3.20) & Point(70.0, 10.20)\n",
    "# You can take advantage of the 'create_poly_geom' -function:\n",
    "mypoly = create_poly_geom( [(45.2, 22.34),(100.22, -3.20),(70.0, 10.20)] )\n",
    "\n",
    "# What is the area of this Polygon? Print the answer below by using the 'get_area' -function:\n",
    "print('The area of this Polygon is ', get_area(mypoly))"
   ]
  },
  {
   "cell_type": "markdown",
   "metadata": {
    "deletable": false,
    "editable": false,
    "nbgrader": {
     "checksum": "a560403652704cf926a9de8fab5bd0e9",
     "grade": false,
     "grade_id": "cell-df3c925f923bf1dd",
     "locked": true,
     "schema_version": 1,
     "solution": false
    }
   },
   "source": [
    "3: Create a function called `get_length()` with parameter called `geom`. The function should accept either a Shapely LineString or Polygon -object as input. Function should check the type of the input and returns the length of \n",
    "the line if input is LineString and length of the exterior ring if input is Polygon. If something else is passed to the function, you should return an `Error` `\"'geom' should be either LineString or Polygon!\"`. (Use assert functionality). \n"
   ]
  },
  {
   "cell_type": "code",
   "execution_count": 91,
   "metadata": {
    "collapsed": true,
    "deletable": false,
    "nbgrader": {
     "checksum": "053ec8f67056b1f53da8d74a8f59cfbb",
     "grade": false,
     "grade_id": "length",
     "locked": false,
     "schema_version": 1,
     "solution": true
    }
   },
   "outputs": [],
   "source": [
    "# define a function\n",
    "def get_length(geom):\n",
    "    '''\n",
    "    This function is used to get the length of a line or length of the exterior ring pf a polygon\n",
    "    input\n",
    "    polygon\n",
    "    ----------------------------\n",
    "    output\n",
    "    the length of geom\n",
    "    '''\n",
    "    assert type(geom) in [LineString,Polygon],\"'geom' should be either LineString or Polygon!\"\n",
    "    if type(geom) == LineString:\n",
    "        return geom.length\n",
    "    else:\n",
    "        return geom.exterior.length"
   ]
  },
  {
   "cell_type": "code",
   "execution_count": 94,
   "metadata": {
    "collapsed": false,
    "deletable": false,
    "editable": false,
    "nbgrader": {
     "checksum": "aec34842f219b2fe92edf00e8650c81b",
     "grade": true,
     "grade_id": "lenght-test",
     "locked": true,
     "points": 2,
     "schema_version": 1,
     "solution": false
    }
   },
   "outputs": [
    {
     "name": "stdout",
     "output_type": "stream",
     "text": [
      "The length of this Polygon is  121.32841570092893\n"
     ]
    }
   ],
   "source": [
    "# Demonstrate the usage of the function \n",
    "\n",
    "# Create a Polygon with three points: Point(45.2, 22.34) & Point(100.22, -3.20) & Point(70.0, 10.20)\n",
    "# You can take advantage of the 'create_poly_geom' -function:\n",
    "mypoly = create_poly_geom( [(45.2, 22.34),(100.22, -3.20),(70.0, 10.20)] )\n",
    "\n",
    "# What is the length of this Polygon? Print the answer below by using the 'get_length' -function:\n",
    "print('The length of this Polygon is ', get_length(mypoly))\n"
   ]
  },
  {
   "cell_type": "markdown",
   "metadata": {
    "deletable": false,
    "editable": false,
    "nbgrader": {
     "checksum": "b066ecdd5af02d5be87bb9bb6300d003",
     "grade": false,
     "grade_id": "cell-f1a6c44793d1f5b8",
     "locked": true,
     "schema_version": 1,
     "solution": false
    }
   },
   "source": [
    "- Upload the codes and edits to your **own** personal GitHub repository for Exercise-1 in AutoGIS-2018.\n",
    "\n",
    "## Done!\n",
    "\n",
    "That's it. Now you are ready to continue with Problem 3. "
   ]
  }
 ],
 "metadata": {
  "kernelspec": {
   "display_name": "Python 3",
   "language": "python",
   "name": "python3"
  },
  "language_info": {
   "codemirror_mode": {
    "name": "ipython",
    "version": 3
   },
   "file_extension": ".py",
   "mimetype": "text/x-python",
   "name": "python",
   "nbconvert_exporter": "python",
   "pygments_lexer": "ipython3",
   "version": "3.6.5"
  }
 },
 "nbformat": 4,
 "nbformat_minor": 2
}
