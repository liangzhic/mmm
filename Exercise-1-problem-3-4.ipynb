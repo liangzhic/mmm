{
 "cells": [
  {
   "cell_type": "markdown",
   "metadata": {
    "deletable": false,
    "editable": false,
    "nbgrader": {
     "checksum": "ca526d319b8fb2aa32045eba104edf99",
     "grade": false,
     "grade_id": "cell-8e97f56bdddd1895",
     "locked": true,
     "schema_version": 1,
     "solution": false
    }
   },
   "source": [
    "## Problem 3: Reading coordinates from a file and creating a geometries (*5 points*) \n",
    "\n",
    "One of the most typical problems in GIS is the situation where you have a set of coordinates in some file, and you need to map those. Python is a really handy tool for these kind of situations, as it is possible to read data from (basically) any kind of input datafile (such as csv-, txt-, excel-, gpx-files (gps data), databases etc.). \n",
    "\n",
    "Thus, let's see how we can read data from a file and create Point -objects from them that can be saved e.g. as a new Shapefile (we will learn this next week). Our dataset **[travelTimes_2015_Helsinki.txt](data/travelTimes_2015_Helsinki.txt)** consist of \n",
    "travel times between specific locations in Helsinki Region. The first four rows of our data looks like this:\n",
    "\n",
    "```\n",
    "   from_id;to_id;fromid_toid;route_number;at;from_x;from_y;to_x;to_y;total_route_time;route_time;route_distance\n",
    "   5861326;5785640;5861326_5785640;1;08:10;24.9704379;60.3119173;24.8560344;60.399940599999994;125.0;99.0;22917.6\n",
    "   5861326;5785641;5861326_5785641;1;08:10;24.9704379;60.3119173;24.8605682;60.4000135;123.0;102.0;23123.5\n",
    "   5861326;5785642;5861326_5785642;1;08:10;24.9704379;60.3119173;24.865102;60.4000863;125.0;103.0;23241.3\n",
    "```\n",
    "\n",
    "As we can see, there exists many columns in the data, but the few important ones needed here are:\n",
    "\n",
    "| Column | Description |\n",
    "|--------|-------------|\n",
    "| from_x | x-coordinate of the **origin** location (longitude) |\n",
    "| from_y | y-coordinate of the **origin** location (latitude) |\n",
    "| to_x   | x-coordinate of the **destination** location (longitude)|\n",
    "| to_y   | y-coordinate of the **destination** location (latitude) |\n",
    "| total_route_time | Travel time with public transportation at the route |\n",
    "\n",
    "### Steps\n",
    "\n",
    "1: Read the [data/travelTimes_2015_Helsinki.txt](data/travelTimes_2015_Helsinki.txt) file into a variable **`data`** using  Pandas.\n",
    "\n",
    "  - What is the separator in the data (see above)? Remember to take that into account when reading the data.\n"
   ]
  },
  {
   "cell_type": "code",
   "execution_count": 1,
   "metadata": {
    "collapsed": true,
    "deletable": false,
    "nbgrader": {
     "checksum": "2aba8072df9b2c6e40d74a134e81acd8",
     "grade": false,
     "grade_id": "read-data",
     "locked": false,
     "schema_version": 1,
     "solution": true
    }
   },
   "outputs": [],
   "source": [
    "import pandas as pd\n",
    "import os\n",
    "cwd = os.getcwd() # get the current dirctory\n",
    "# read the data\n",
    "fp = r'/data/travelTimes_2015_Helsinki.txt'\n",
    "# Read data using varying amount of spaces as separator and specifying NaN characters as NoData values\n",
    "data = pd.read_csv( cwd + fp, sep=';' ) # seperate by semicolon"
   ]
  },
  {
   "cell_type": "code",
   "execution_count": 2,
   "metadata": {
    "collapsed": true,
    "deletable": false,
    "editable": false,
    "nbgrader": {
     "checksum": "18908db861f59654a0dae798e25ebcb3",
     "grade": true,
     "grade_id": "read-data-test",
     "locked": true,
     "points": 0.5,
     "schema_version": 1,
     "solution": false
    }
   },
   "outputs": [
    {
     "data": {
      "text/html": [
       "<div>\n",
       "<style scoped>\n",
       "    .dataframe tbody tr th:only-of-type {\n",
       "        vertical-align: middle;\n",
       "    }\n",
       "\n",
       "    .dataframe tbody tr th {\n",
       "        vertical-align: top;\n",
       "    }\n",
       "\n",
       "    .dataframe thead th {\n",
       "        text-align: right;\n",
       "    }\n",
       "</style>\n",
       "<table border=\"1\" class=\"dataframe\">\n",
       "  <thead>\n",
       "    <tr style=\"text-align: right;\">\n",
       "      <th></th>\n",
       "      <th>from_id</th>\n",
       "      <th>to_id</th>\n",
       "      <th>fromid_toid</th>\n",
       "      <th>route_number</th>\n",
       "      <th>at</th>\n",
       "      <th>from_x</th>\n",
       "      <th>from_y</th>\n",
       "      <th>to_x</th>\n",
       "      <th>to_y</th>\n",
       "      <th>total_route_time</th>\n",
       "      <th>route_time</th>\n",
       "      <th>route_distance</th>\n",
       "      <th>route_total_lines</th>\n",
       "    </tr>\n",
       "  </thead>\n",
       "  <tbody>\n",
       "    <tr>\n",
       "      <th>0</th>\n",
       "      <td>5861326</td>\n",
       "      <td>5785640</td>\n",
       "      <td>5861326_5785640</td>\n",
       "      <td>1</td>\n",
       "      <td>08:10</td>\n",
       "      <td>24.970438</td>\n",
       "      <td>60.311917</td>\n",
       "      <td>24.856034</td>\n",
       "      <td>60.399941</td>\n",
       "      <td>125.0</td>\n",
       "      <td>99.0</td>\n",
       "      <td>22917.6</td>\n",
       "      <td>2.0</td>\n",
       "    </tr>\n",
       "    <tr>\n",
       "      <th>1</th>\n",
       "      <td>5861326</td>\n",
       "      <td>5785641</td>\n",
       "      <td>5861326_5785641</td>\n",
       "      <td>1</td>\n",
       "      <td>08:10</td>\n",
       "      <td>24.970438</td>\n",
       "      <td>60.311917</td>\n",
       "      <td>24.860568</td>\n",
       "      <td>60.400014</td>\n",
       "      <td>123.0</td>\n",
       "      <td>102.0</td>\n",
       "      <td>23123.5</td>\n",
       "      <td>2.0</td>\n",
       "    </tr>\n",
       "    <tr>\n",
       "      <th>2</th>\n",
       "      <td>5861326</td>\n",
       "      <td>5785642</td>\n",
       "      <td>5861326_5785642</td>\n",
       "      <td>1</td>\n",
       "      <td>08:10</td>\n",
       "      <td>24.970438</td>\n",
       "      <td>60.311917</td>\n",
       "      <td>24.865102</td>\n",
       "      <td>60.400086</td>\n",
       "      <td>125.0</td>\n",
       "      <td>103.0</td>\n",
       "      <td>23241.3</td>\n",
       "      <td>2.0</td>\n",
       "    </tr>\n",
       "    <tr>\n",
       "      <th>3</th>\n",
       "      <td>5861326</td>\n",
       "      <td>5785643</td>\n",
       "      <td>5861326_5785643</td>\n",
       "      <td>1</td>\n",
       "      <td>08:10</td>\n",
       "      <td>24.970438</td>\n",
       "      <td>60.311917</td>\n",
       "      <td>24.869636</td>\n",
       "      <td>60.400159</td>\n",
       "      <td>129.0</td>\n",
       "      <td>107.0</td>\n",
       "      <td>23534.2</td>\n",
       "      <td>2.0</td>\n",
       "    </tr>\n",
       "    <tr>\n",
       "      <th>4</th>\n",
       "      <td>5861326</td>\n",
       "      <td>5787544</td>\n",
       "      <td>5861326_5787544</td>\n",
       "      <td>1</td>\n",
       "      <td>08:10</td>\n",
       "      <td>24.970438</td>\n",
       "      <td>60.311917</td>\n",
       "      <td>24.842582</td>\n",
       "      <td>60.397478</td>\n",
       "      <td>118.0</td>\n",
       "      <td>92.0</td>\n",
       "      <td>22428.2</td>\n",
       "      <td>2.0</td>\n",
       "    </tr>\n",
       "  </tbody>\n",
       "</table>\n",
       "</div>"
      ],
      "text/plain": [
       "   from_id    to_id      fromid_toid  route_number     at     from_x  \\\n",
       "0  5861326  5785640  5861326_5785640             1  08:10  24.970438   \n",
       "1  5861326  5785641  5861326_5785641             1  08:10  24.970438   \n",
       "2  5861326  5785642  5861326_5785642             1  08:10  24.970438   \n",
       "3  5861326  5785643  5861326_5785643             1  08:10  24.970438   \n",
       "4  5861326  5787544  5861326_5787544             1  08:10  24.970438   \n",
       "\n",
       "      from_y       to_x       to_y  total_route_time  route_time  \\\n",
       "0  60.311917  24.856034  60.399941             125.0        99.0   \n",
       "1  60.311917  24.860568  60.400014             123.0       102.0   \n",
       "2  60.311917  24.865102  60.400086             125.0       103.0   \n",
       "3  60.311917  24.869636  60.400159             129.0       107.0   \n",
       "4  60.311917  24.842582  60.397478             118.0        92.0   \n",
       "\n",
       "   route_distance  route_total_lines  \n",
       "0         22917.6                2.0  \n",
       "1         23123.5                2.0  \n",
       "2         23241.3                2.0  \n",
       "3         23534.2                2.0  \n",
       "4         22428.2                2.0  "
      ]
     },
     "execution_count": 2,
     "metadata": {},
     "output_type": "execute_result"
    }
   ],
   "source": [
    "# This test print should print first five rows in the data (if not, something is incorrect):\n",
    "data.head()\n"
   ]
  },
  {
   "cell_type": "markdown",
   "metadata": {
    "deletable": false,
    "editable": false,
    "nbgrader": {
     "checksum": "da844ada228033e5704110e8b68ea3c8",
     "grade": false,
     "grade_id": "cell-8629f1cfe42652d3",
     "locked": true,
     "schema_version": 1,
     "solution": false
    }
   },
   "source": [
    "2: Select 4 columns from the DataFrame: i.e. **'from_x'**, **'from_y'**, **'to_x'**, **'to_y'** and store them in variable **`data`** (i.e. update the data -variable).\n"
   ]
  },
  {
   "cell_type": "code",
   "execution_count": 3,
   "metadata": {
    "collapsed": true,
    "deletable": false,
    "nbgrader": {
     "checksum": "3823f81b8fbb2e45b62893d4256842c8",
     "grade": false,
     "grade_id": "select-data",
     "locked": false,
     "schema_version": 1,
     "solution": true
    }
   },
   "outputs": [],
   "source": [
    "# store 4 columns from the data\n",
    "from_x = data.from_x\n",
    "from_y = data.from_y\n",
    "to_x = data.to_x\n",
    "to_y = data.to_y"
   ]
  },
  {
   "cell_type": "code",
   "execution_count": 4,
   "metadata": {
    "collapsed": true,
    "deletable": false,
    "editable": false,
    "nbgrader": {
     "checksum": "dd53373821366669e81d726f0d91b012",
     "grade": true,
     "grade_id": "select-data-test",
     "locked": true,
     "points": 0.5,
     "schema_version": 1,
     "solution": false
    }
   },
   "outputs": [
    {
     "name": "stdout",
     "output_type": "stream",
     "text": [
      "Index(['from_id', 'to_id', 'fromid_toid', 'route_number', 'at', 'from_x',\n",
      "       'from_y', 'to_x', 'to_y', 'total_route_time', 'route_time',\n",
      "       'route_distance', 'route_total_lines'],\n",
      "      dtype='object')\n"
     ]
    }
   ],
   "source": [
    "# Print out the columns of the 'data' DataFrame:\n",
    "print(data.columns)"
   ]
  },
  {
   "cell_type": "markdown",
   "metadata": {
    "deletable": false,
    "editable": false,
    "nbgrader": {
     "checksum": "88e6a43b2403aab6dcc4b831269f4d73",
     "grade": false,
     "grade_id": "cell-a6b02a2d661bc709",
     "locked": true,
     "schema_version": 1,
     "solution": false
    }
   },
   "source": [
    "3: Create (2) lists for points called **`orig_points`** and **`dest_points`**\n"
   ]
  },
  {
   "cell_type": "code",
   "execution_count": 42,
   "metadata": {
    "collapsed": true,
    "deletable": false,
    "nbgrader": {
     "checksum": "f93df0e4aea927ffa2ad9c42bada5ea3",
     "grade": false,
     "grade_id": "create-lists",
     "locked": false,
     "schema_version": 1,
     "solution": true
    }
   },
   "outputs": [],
   "source": [
    "# create two lists\n",
    "orig_points = list()\n",
    "dest_points = list()"
   ]
  },
  {
   "cell_type": "code",
   "execution_count": 32,
   "metadata": {
    "collapsed": false,
    "deletable": false,
    "editable": false,
    "nbgrader": {
     "checksum": "89088b17a09a03b079f0f7dba8c18288",
     "grade": true,
     "grade_id": "create-lists-test",
     "locked": true,
     "points": 0.5,
     "schema_version": 1,
     "solution": false
    }
   },
   "outputs": [
    {
     "name": "stdout",
     "output_type": "stream",
     "text": [
      "orig_points length: 0\n",
      "dest_points length: 0\n"
     ]
    }
   ],
   "source": [
    "# These test prints should produce empty lists\n",
    "print('orig_points length:', len(orig_points))\n",
    "print('dest_points length:', len(dest_points))\n"
   ]
  },
  {
   "cell_type": "markdown",
   "metadata": {
    "deletable": false,
    "editable": false,
    "nbgrader": {
     "checksum": "6e5d996ece60413c3632414e4e2b36fa",
     "grade": false,
     "grade_id": "cell-386a63916905663b",
     "locked": true,
     "schema_version": 1,
     "solution": false
    }
   },
   "source": [
    "4: Iterate over the rows of your DataFrame and add Shapely Point -objects into the **`orig_points`** -list and **`dest_point`** -list representing the origin locations (columns `from_x` and `from_y`) and destination locations (columns `to_x` and `to_y`) accordingly.\n",
    "\n",
    "  - See lesson materials from [Geo-Python Lesson 6](https://geo-python.github.io/2018/notebooks/L6/pandas/advanced-data-processing-with-pandas.html#Iterating-rows-and-using-self-made-functions-in-Pandas) if you do not remember how to iterate over DataFrame rows\n"
   ]
  },
  {
   "cell_type": "code",
   "execution_count": 43,
   "metadata": {
    "collapsed": true,
    "deletable": false,
    "nbgrader": {
     "checksum": "bf3d5f404840ef5b691321994a02a423",
     "grade": false,
     "grade_id": "create-points",
     "locked": false,
     "schema_version": 1,
     "solution": true
    }
   },
   "outputs": [],
   "source": [
    "# Import necessary geometric objects from shapely module\n",
    "from shapely.geometry import Point, LineString, Polygon\n",
    "#index = 0\n",
    "for x, y, i, j in zip(from_x, from_y, to_x, to_y):\n",
    "    orig_points.append(Point(x,y))\n",
    "    dest_points.append(Point(i,j))\n",
    "    #index += 1"
   ]
  },
  {
   "cell_type": "code",
   "execution_count": 44,
   "metadata": {
    "collapsed": false,
    "deletable": false,
    "editable": false,
    "nbgrader": {
     "checksum": "98741d988a8dea670c7686329d69d6b5",
     "grade": true,
     "grade_id": "create-points-test",
     "locked": true,
     "points": 3.5,
     "schema_version": 1,
     "solution": false
    }
   },
   "outputs": [
    {
     "name": "stdout",
     "output_type": "stream",
     "text": [
      "[<shapely.geometry.point.Point object at 0x7f0770124b38>, <shapely.geometry.point.Point object at 0x7f0770124a90>, <shapely.geometry.point.Point object at 0x7f07701247f0>, <shapely.geometry.point.Point object at 0x7f07701248d0>, <shapely.geometry.point.Point object at 0x7f07701240f0>]\n"
     ]
    }
   ],
   "source": [
    "# This test print should print first five origin Point -objects\n",
    "print(orig_points[0:5])\n"
   ]
  },
  {
   "cell_type": "markdown",
   "metadata": {
    "deletable": false,
    "editable": false,
    "nbgrader": {
     "checksum": "2d0f09b59fd4269a3930ce183efd3488",
     "grade": false,
     "grade_id": "cell-8a7219cc6adc6396",
     "locked": true,
     "schema_version": 1,
     "solution": false
    }
   },
   "source": [
    "\n",
    "- Upload the codes and edits to your **own** personal GitHub repository for Exercise-1 in AutoGIS-2018.\n",
    "\n",
    "## Done!\n",
    "\n",
    "That's it. Now you are ready to continue for the final Problem 4."
   ]
  },
  {
   "cell_type": "markdown",
   "metadata": {
    "deletable": false,
    "editable": false,
    "nbgrader": {
     "checksum": "eee091a7921c44c0549e80d45f253fa4",
     "grade": false,
     "grade_id": "cell-9566ff76a1dc4a27",
     "locked": true,
     "schema_version": 1,
     "solution": false
    }
   },
   "source": [
    "## Problem 4: Creating LineStrings that represent the movements (*5 points*):\n",
    "\n",
    "This task continuous where we left in Problem 3. \n",
    "   \n",
    "1: Create a list called `lines`\n"
   ]
  },
  {
   "cell_type": "code",
   "execution_count": 40,
   "metadata": {
    "collapsed": true,
    "deletable": false,
    "nbgrader": {
     "checksum": "317f8d53b553cd7bc304217496d0f811",
     "grade": false,
     "grade_id": "line-list",
     "locked": false,
     "schema_version": 1,
     "solution": true
    }
   },
   "outputs": [],
   "source": [
    "# Create a list called lines\n",
    "lines = list()"
   ]
  },
  {
   "cell_type": "code",
   "execution_count": 41,
   "metadata": {
    "collapsed": true,
    "deletable": false,
    "editable": false,
    "nbgrader": {
     "checksum": "9613ff0a1530ddfae27a7a66f13467e7",
     "grade": true,
     "grade_id": "line-list-test",
     "locked": true,
     "points": 0.5,
     "schema_version": 1,
     "solution": false
    }
   },
   "outputs": [
    {
     "name": "stdout",
     "output_type": "stream",
     "text": [
      "lines length: 0\n"
     ]
    }
   ],
   "source": [
    "# This test print should produce empty list\n",
    "print('lines length:', len(lines))"
   ]
  },
  {
   "cell_type": "markdown",
   "metadata": {},
   "source": [
    "2a: Iterate over the origin and destination lists and create a Shapely LineString -object between the origin and destination point\n",
    "\n",
    "  - Hint - Alternative 1: You can take advantage of `range()` function here that can help accessing the values from two lists at the same time.\n",
    "     \n",
    "  - Hint - Alternative 2: You can use `zip()` function to iterate over many lists at the same time. [See hints for this week](https://automating-gis-processes.github.io/2018/lessons/L1/exercise-1.html#hints)\n",
    "  \n",
    "2b: Add the LineString into the `lines` -list.\n"
   ]
  },
  {
   "cell_type": "code",
   "execution_count": 47,
   "metadata": {
    "collapsed": false,
    "deletable": false,
    "nbgrader": {
     "checksum": "dc88c4f551091bbd4e3afcc41637d95f",
     "grade": false,
     "grade_id": "create-od-line",
     "locked": false,
     "schema_version": 1,
     "solution": true
    }
   },
   "outputs": [],
   "source": [
    "#  Add the LineString into the lines -list.\n",
    "for from_p,to_p in zip(orig_points, dest_points):\n",
    "    lines.append(LineString([from_p,to_p]))"
   ]
  },
  {
   "cell_type": "code",
   "execution_count": 48,
   "metadata": {
    "collapsed": false,
    "deletable": false,
    "editable": false,
    "nbgrader": {
     "checksum": "8ffc92c6c626e4a2aa32a7a32cd4a5e7",
     "grade": true,
     "grade_id": "create-od-line-test",
     "locked": true,
     "points": 2,
     "schema_version": 1,
     "solution": false
    }
   },
   "outputs": [
    {
     "name": "stdout",
     "output_type": "stream",
     "text": [
      "[<shapely.geometry.linestring.LineString object at 0x7f076fb1bd68>, <shapely.geometry.linestring.LineString object at 0x7f076fb1beb8>, <shapely.geometry.linestring.LineString object at 0x7f076fb1bef0>, <shapely.geometry.linestring.LineString object at 0x7f076fb1bf28>, <shapely.geometry.linestring.LineString object at 0x7f076fb1bf60>]\n"
     ]
    }
   ],
   "source": [
    "# This test print should print first five LineString -objects\n",
    "print(lines[0:5])\n"
   ]
  },
  {
   "cell_type": "markdown",
   "metadata": {},
   "source": [
    "3: Create a variable called **`total_length`**, and store the total (Euclidian) distance of all the origin-destination LineStrings that we just created into that variable.\n",
    "\n",
    "  - Hint: You might want to iterate over the lines and update the total lenght on each iteration.\n"
   ]
  },
  {
   "cell_type": "code",
   "execution_count": 50,
   "metadata": {},
   "outputs": [
    {
     "data": {
      "text/plain": [
       "14643"
      ]
     },
     "execution_count": 50,
     "metadata": {},
     "output_type": "execute_result"
    }
   ],
   "source": [
    "len(lines)"
   ]
  },
  {
   "cell_type": "code",
   "execution_count": 52,
   "metadata": {
    "collapsed": false,
    "deletable": false,
    "nbgrader": {
     "checksum": "dae14a63f11592f0b65b12a65b98e2cc",
     "grade": false,
     "grade_id": "euclidian-distance",
     "locked": false,
     "schema_version": 1,
     "solution": true
    }
   },
   "outputs": [],
   "source": [
    "# store all the lengths\n",
    "total_length = 0\n",
    "for lin in lines:\n",
    "    total_length = total_length + lin.length"
   ]
  },
  {
   "cell_type": "code",
   "execution_count": 53,
   "metadata": {
    "collapsed": false,
    "deletable": false,
    "editable": false,
    "nbgrader": {
     "checksum": "aa72370e69161b55e767b1c2be61a5a1",
     "grade": true,
     "grade_id": "euclidian-distance-test",
     "locked": true,
     "points": 1.5,
     "schema_version": 1,
     "solution": false
    }
   },
   "outputs": [
    {
     "name": "stdout",
     "output_type": "stream",
     "text": [
      "Total length of all lines is 3148.5707808651528\n"
     ]
    }
   ],
   "source": [
    "# This test print should print the total length of all lines\n",
    "print(\"Total length of all lines is\", total_length)\n"
   ]
  },
  {
   "cell_type": "markdown",
   "metadata": {},
   "source": [
    "4: To make things more reusable: write the previous parts, i.e. the creation of the LineString and calculating the total distance, into dedicated functions and use them. You can copy and paste the codes you have written earlier. \n",
    "\n",
    "  - You can name the functions as you wish\n",
    "  - Hint: Your function should take origin and destination point lists as input"
   ]
  },
  {
   "cell_type": "code",
   "execution_count": 56,
   "metadata": {
    "collapsed": false,
    "deletable": false,
    "nbgrader": {
     "checksum": "c44be5ffc8b218c51f9a88b2d9dfb2a2",
     "grade": true,
     "grade_id": "distance-function",
     "locked": false,
     "points": 1,
     "schema_version": 1,
     "solution": true
    }
   },
   "outputs": [],
   "source": [
    "# create a function\n",
    "def calculate_length_of_lines(point_list1, point_list2):\n",
    "    '''\n",
    "    This function is used to calculate the total length of lines.\n",
    "    Firstly, we input two points and then generate a line\n",
    "    Secondly, we calculate the total distance of all the lines\n",
    "    ----------------------------------------------------------\n",
    "    input: point1, point2\n",
    "    -----------------------------------------------------------\n",
    "    output: the total length\n",
    "    '''\n",
    "    # Create a list called lines\n",
    "    #lines = list()\n",
    "    total_length = 0\n",
    "    # do the loop\n",
    "    for p1, p2 in zip(point_list1, point_list2):\n",
    "        line = LineString([p1, p2]) # generate the line\n",
    "        total_length = total_length + line.length # calculate the length of all lines\n",
    "    return total_length"
   ]
  },
  {
   "cell_type": "code",
   "execution_count": 57,
   "metadata": {},
   "outputs": [
    {
     "name": "stdout",
     "output_type": "stream",
     "text": [
      "Total length of all lines is 3148.5707808651528\n"
     ]
    }
   ],
   "source": [
    "# This test print should print the total length of all lines\n",
    "print(\"Total length of all lines is\",calculate_length_of_lines(orig_points, dest_points) )\n"
   ]
  },
  {
   "cell_type": "markdown",
   "metadata": {},
   "source": [
    "## All done!\n",
    "\n",
    "Awesome, now you have successfully practiced how geometries can be created in Python. Next week we will start using them actively."
   ]
  }
 ],
 "metadata": {
  "kernelspec": {
   "display_name": "Python 3",
   "language": "python",
   "name": "python3"
  },
  "language_info": {
   "codemirror_mode": {
    "name": "ipython",
    "version": 3
   },
   "file_extension": ".py",
   "mimetype": "text/x-python",
   "name": "python",
   "nbconvert_exporter": "python",
   "pygments_lexer": "ipython3",
   "version": "3.6.5"
  }
 },
 "nbformat": 4,
 "nbformat_minor": 2
}
