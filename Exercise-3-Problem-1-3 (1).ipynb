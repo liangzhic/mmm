{
 "cells": [
  {
   "cell_type": "markdown",
   "metadata": {
    "deletable": true,
    "editable": true
   },
   "source": [
    "## Problem 1: Geocode shopping centers (5 points)\n",
    "\n",
    "In the first problem the aim is to find out the addresses of shopping centers and to retreive numercal coordinates for these addresses. As an output, we will have a Shapefile called `shopping_centers.shp` which contains the geocoded result.\n",
    "\n",
    "**Preparation:** Find out the addresses for following shopping centers from the internet, and write the addresses into a text file called `shopping_centers.txt`:\n",
    "\n",
    " - Itis\n",
    " - Forum\n",
    " - Iso-omena\n",
    " - Sello\n",
    " - Jumbo\n",
    " - REDI\n",
    "\n",
    "`shopping_centers.txt` should have semicolon (`;`) as a separator, and the file should include the following columns:\n",
    "\n",
    "- ``id`` (integer) containing a unique identifier for each shopping center\n",
    "- ``name`` (string) of each shopping center\n",
    "- ``addr`` (string) the address \n",
    "\n",
    "\n",
    "See an example of how to format the text file [in the lesson materials](https://automating-gis-processes.github.io/2018/master/notebooks/L3/geocoding_in_geopandas.html). Save (and upload) the file into your exercise repository, and read it into a pandas DataFrame called ``data``:"
   ]
  },
  {
   "cell_type": "code",
   "execution_count": 1,
   "metadata": {
    "collapsed": true,
    "deletable": false,
    "editable": true,
    "nbgrader": {
     "checksum": "7de89a15a19f7c81c62cc7fe98d6b668",
     "grade": false,
     "grade_id": "read_data",
     "locked": false,
     "schema_version": 1,
     "solution": true
    }
   },
   "outputs": [],
   "source": [
    "# Import modules\n",
    "import pandas as pd\n",
    "import geopandas as gpd\n",
    "# Read the data (replace \"None\" with your own code)\n",
    "data = pd.read_csv(\"shopping_centers.txt\",sep=\";\")"
   ]
  },
  {
   "cell_type": "code",
   "execution_count": 2,
   "metadata": {
    "collapsed": false,
    "deletable": false,
    "editable": false,
    "nbgrader": {
     "checksum": "b9e771b4bf6b7aaab77ca347c4e6deb8",
     "grade": true,
     "grade_id": "read_data_tests",
     "locked": true,
     "points": 1,
     "schema_version": 1,
     "solution": false
    }
   },
   "outputs": [
    {
     "name": "stdout",
     "output_type": "stream",
     "text": [
      "   id       name                                   addr\n",
      "0   1       Itis            Itäkatu 1-7, 00930 Helsinki\n",
      "1   2      Forum  Mannerheimintie 14–20, 00100 Helsinki\n",
      "2   3  Iso-omena           Piispansilta 11, 02230 Espoo\n",
      "3   4      Sello       Leppävaarankatu 3-9, 02600 Espoo\n",
      "4   5      Jumbo                           01510 Vantaa\n",
      "5   6       REDI   Hermannin rantatie 5, 00580 Helsinki\n"
     ]
    }
   ],
   "source": [
    "# Check your input data\n",
    "print(data)"
   ]
  },
  {
   "cell_type": "markdown",
   "metadata": {
    "deletable": true,
    "editable": true
   },
   "source": [
    "- Geocode the addresses in Geopandas using the Nominatim geocoder in a similar manner as was done in the [lesson materials](https://automating-gis-processes.github.io/2018/master/notebooks/L3/geocoding_in_geopandas.html)\n",
    "\n"
   ]
  },
  {
   "cell_type": "code",
   "execution_count": 3,
   "metadata": {
    "collapsed": false,
    "deletable": false,
    "editable": true,
    "nbgrader": {
     "checksum": "09f5f3d327d7d0fa4295ff0e41901637",
     "grade": false,
     "grade_id": "geocode",
     "locked": false,
     "schema_version": 1,
     "solution": true
    }
   },
   "outputs": [
    {
     "data": {
      "text/html": [
       "<div>\n",
       "<style scoped>\n",
       "    .dataframe tbody tr th:only-of-type {\n",
       "        vertical-align: middle;\n",
       "    }\n",
       "\n",
       "    .dataframe tbody tr th {\n",
       "        vertical-align: top;\n",
       "    }\n",
       "\n",
       "    .dataframe thead th {\n",
       "        text-align: right;\n",
       "    }\n",
       "</style>\n",
       "<table border=\"1\" class=\"dataframe\">\n",
       "  <thead>\n",
       "    <tr style=\"text-align: right;\">\n",
       "      <th></th>\n",
       "      <th>geometry</th>\n",
       "      <th>address</th>\n",
       "    </tr>\n",
       "  </thead>\n",
       "  <tbody>\n",
       "    <tr>\n",
       "      <th>0</th>\n",
       "      <td>POINT (25.0829394427168 60.21170635)</td>\n",
       "      <td>Kauppakeskus Itis, 1-7, Itäkatu, Itäkeskus, Va...</td>\n",
       "    </tr>\n",
       "    <tr>\n",
       "      <th>1</th>\n",
       "      <td>POINT (24.936116 60.171405)</td>\n",
       "      <td>Mannerheimintie, Keskusta, Kluuvi, Eteläinen s...</td>\n",
       "    </tr>\n",
       "    <tr>\n",
       "      <th>2</th>\n",
       "      <td>POINT (24.73833665221 60.1612882)</td>\n",
       "      <td>Iso Omena, 11, Piispansilta, Espoo, Helsingin ...</td>\n",
       "    </tr>\n",
       "    <tr>\n",
       "      <th>3</th>\n",
       "      <td>POINT (24.8099222238214 60.21867775)</td>\n",
       "      <td>3-9, Leppävaarankatu, Etelä-Leppävaara, Leppäv...</td>\n",
       "    </tr>\n",
       "    <tr>\n",
       "      <th>4</th>\n",
       "      <td>POINT (25.0364526 60.3091871)</td>\n",
       "      <td>Vantaa, Helsingin seutukunta, Uusimaa, Etelä-S...</td>\n",
       "    </tr>\n",
       "  </tbody>\n",
       "</table>\n",
       "</div>"
      ],
      "text/plain": [
       "                               geometry  \\\n",
       "0  POINT (25.0829394427168 60.21170635)   \n",
       "1           POINT (24.936116 60.171405)   \n",
       "2     POINT (24.73833665221 60.1612882)   \n",
       "3  POINT (24.8099222238214 60.21867775)   \n",
       "4         POINT (25.0364526 60.3091871)   \n",
       "\n",
       "                                             address  \n",
       "0  Kauppakeskus Itis, 1-7, Itäkatu, Itäkeskus, Va...  \n",
       "1  Mannerheimintie, Keskusta, Kluuvi, Eteläinen s...  \n",
       "2  Iso Omena, 11, Piispansilta, Espoo, Helsingin ...  \n",
       "3  3-9, Leppävaarankatu, Etelä-Leppävaara, Leppäv...  \n",
       "4  Vantaa, Helsingin seutukunta, Uusimaa, Etelä-S...  "
      ]
     },
     "execution_count": 3,
     "metadata": {},
     "output_type": "execute_result"
    }
   ],
   "source": [
    "from geopandas.tools import geocode\n",
    "\n",
    "# Geocode addresses with Nominatim backend\n",
    "geo = geocode(data['addr'], provider = 'nominatim', user_agent = 'autogis_student_xx')\n",
    "geo.head()"
   ]
  },
  {
   "cell_type": "code",
   "execution_count": 4,
   "metadata": {
    "collapsed": false,
    "deletable": false,
    "editable": false,
    "nbgrader": {
     "checksum": "385263d22063c669c680ba99419d2fe9",
     "grade": true,
     "grade_id": "geocode_tests",
     "locked": true,
     "points": 2,
     "schema_version": 1,
     "solution": false
    }
   },
   "outputs": [
    {
     "name": "stdout",
     "output_type": "stream",
     "text": [
      "                               geometry  \\\n",
      "0  POINT (25.0829394427168 60.21170635)   \n",
      "1           POINT (24.936116 60.171405)   \n",
      "2     POINT (24.73833665221 60.1612882)   \n",
      "3  POINT (24.8099222238214 60.21867775)   \n",
      "4         POINT (25.0364526 60.3091871)   \n",
      "5         POINT (24.9790421 60.1870232)   \n",
      "\n",
      "                                             address  \n",
      "0  Kauppakeskus Itis, 1-7, Itäkatu, Itäkeskus, Va...  \n",
      "1  Mannerheimintie, Keskusta, Kluuvi, Eteläinen s...  \n",
      "2  Iso Omena, 11, Piispansilta, Espoo, Helsingin ...  \n",
      "3  3-9, Leppävaarankatu, Etelä-Leppävaara, Leppäv...  \n",
      "4  Vantaa, Helsingin seutukunta, Uusimaa, Etelä-S...  \n",
      "5  Silta, 5, Hermannin rantatie, Kalasatama, Sörn...  \n"
     ]
    }
   ],
   "source": [
    "# Check the geocoded output\n",
    "print(geo)"
   ]
  },
  {
   "cell_type": "markdown",
   "metadata": {
    "deletable": true,
    "editable": true
   },
   "source": [
    "Reproject the geometries into a EPSG projection 3879"
   ]
  },
  {
   "cell_type": "code",
   "execution_count": 5,
   "metadata": {
    "collapsed": true,
    "deletable": false,
    "editable": true,
    "nbgrader": {
     "checksum": "b0159d35f45f5454fae6b5d67858b986",
     "grade": false,
     "grade_id": "crs",
     "locked": false,
     "schema_version": 1,
     "solution": true
    }
   },
   "outputs": [],
   "source": [
    "# Import pyproj\n",
    "import pyproj\n",
    "import fiona\n",
    "from fiona.crs import from_epsg\n",
    "# Reproject the geometries into a EPSG projection 3879\n",
    "geo = geo.to_crs(from_epsg(3879))\n",
    "#geo = geo.to_crs(epsg=3879)"
   ]
  },
  {
   "cell_type": "code",
   "execution_count": 6,
   "metadata": {},
   "outputs": [
    {
     "data": {
      "text/plain": [
       "{'init': 'epsg:3879', 'no_defs': True}"
      ]
     },
     "execution_count": 6,
     "metadata": {},
     "output_type": "execute_result"
    }
   ],
   "source": [
    "geo.crs"
   ]
  },
  {
   "cell_type": "code",
   "execution_count": 7,
   "metadata": {
    "collapsed": false,
    "deletable": false,
    "editable": false,
    "nbgrader": {
     "checksum": "06252425bd47da7291dbb39e60a52da9",
     "grade": true,
     "grade_id": "crs_test",
     "locked": true,
     "points": 0.5,
     "schema_version": 1,
     "solution": false
    }
   },
   "outputs": [
    {
     "name": "stdout",
     "output_type": "stream",
     "text": [
      "{'init': 'epsg:3879', 'no_defs': True}\n"
     ]
    }
   ],
   "source": [
    "# Check layer crs\n",
    "print(geo.crs)"
   ]
  },
  {
   "cell_type": "markdown",
   "metadata": {
    "deletable": true,
    "editable": true
   },
   "source": [
    "- Make a Table join between the geocoded addresses (``geo``) and the original addresses (``data``) in order to link the numerical coordinates and  the `id` and `name` of each shopping center. \n",
    "- Store the output in a variable called ``geodata`` \n"
   ]
  },
  {
   "cell_type": "code",
   "execution_count": 8,
   "metadata": {
    "collapsed": true,
    "deletable": false,
    "editable": true,
    "nbgrader": {
     "checksum": "18fd60e95739b901ff1deae1a294bdca",
     "grade": false,
     "grade_id": "join",
     "locked": false,
     "schema_version": 1,
     "solution": true
    }
   },
   "outputs": [],
   "source": [
    "# Join the tables\n",
    "geodata = geo.join(data)"
   ]
  },
  {
   "cell_type": "code",
   "execution_count": 9,
   "metadata": {},
   "outputs": [
    {
     "data": {
      "text/plain": [
       "geopandas.geodataframe.GeoDataFrame"
      ]
     },
     "execution_count": 9,
     "metadata": {},
     "output_type": "execute_result"
    }
   ],
   "source": [
    "type(geodata)"
   ]
  },
  {
   "cell_type": "code",
   "execution_count": 10,
   "metadata": {
    "collapsed": true,
    "deletable": false,
    "editable": false,
    "nbgrader": {
     "checksum": "351242bab326151ee36577ea77a215fd",
     "grade": true,
     "grade_id": "join_test",
     "locked": true,
     "points": 1,
     "schema_version": 1,
     "solution": false
    }
   },
   "outputs": [
    {
     "data": {
      "text/html": [
       "<div>\n",
       "<style scoped>\n",
       "    .dataframe tbody tr th:only-of-type {\n",
       "        vertical-align: middle;\n",
       "    }\n",
       "\n",
       "    .dataframe tbody tr th {\n",
       "        vertical-align: top;\n",
       "    }\n",
       "\n",
       "    .dataframe thead th {\n",
       "        text-align: right;\n",
       "    }\n",
       "</style>\n",
       "<table border=\"1\" class=\"dataframe\">\n",
       "  <thead>\n",
       "    <tr style=\"text-align: right;\">\n",
       "      <th></th>\n",
       "      <th>geometry</th>\n",
       "      <th>address</th>\n",
       "      <th>id</th>\n",
       "      <th>name</th>\n",
       "      <th>addr</th>\n",
       "    </tr>\n",
       "  </thead>\n",
       "  <tbody>\n",
       "    <tr>\n",
       "      <th>0</th>\n",
       "      <td>POINT (25504598.41930912 6677662.776904543)</td>\n",
       "      <td>Kauppakeskus Itis, 1-7, Itäkatu, Itäkeskus, Va...</td>\n",
       "      <td>1</td>\n",
       "      <td>Itis</td>\n",
       "      <td>Itäkatu 1-7, 00930 Helsinki</td>\n",
       "    </tr>\n",
       "    <tr>\n",
       "      <th>1</th>\n",
       "      <td>POINT (25496453.7290285 6673171.406976718)</td>\n",
       "      <td>Mannerheimintie, Keskusta, Kluuvi, Eteläinen s...</td>\n",
       "      <td>2</td>\n",
       "      <td>Forum</td>\n",
       "      <td>Mannerheimintie 14–20, 00100 Helsinki</td>\n",
       "    </tr>\n",
       "    <tr>\n",
       "      <th>2</th>\n",
       "      <td>POINT (25485470.33883667 6672071.306847659)</td>\n",
       "      <td>Iso Omena, 11, Piispansilta, Espoo, Helsingin ...</td>\n",
       "      <td>3</td>\n",
       "      <td>Iso-omena</td>\n",
       "      <td>Piispansilta 11, 02230 Espoo</td>\n",
       "    </tr>\n",
       "    <tr>\n",
       "      <th>3</th>\n",
       "      <td>POINT (25489463.74430429 6678451.782203159)</td>\n",
       "      <td>3-9, Leppävaarankatu, Etelä-Leppävaara, Leppäv...</td>\n",
       "      <td>4</td>\n",
       "      <td>Sello</td>\n",
       "      <td>Leppävaarankatu 3-9, 02600 Espoo</td>\n",
       "    </tr>\n",
       "    <tr>\n",
       "      <th>4</th>\n",
       "      <td>POINT (25502015.0453754 6688521.428954332)</td>\n",
       "      <td>Vantaa, Helsingin seutukunta, Uusimaa, Etelä-S...</td>\n",
       "      <td>5</td>\n",
       "      <td>Jumbo</td>\n",
       "      <td>01510 Vantaa</td>\n",
       "    </tr>\n",
       "  </tbody>\n",
       "</table>\n",
       "</div>"
      ],
      "text/plain": [
       "                                      geometry  \\\n",
       "0  POINT (25504598.41930912 6677662.776904543)   \n",
       "1   POINT (25496453.7290285 6673171.406976718)   \n",
       "2  POINT (25485470.33883667 6672071.306847659)   \n",
       "3  POINT (25489463.74430429 6678451.782203159)   \n",
       "4   POINT (25502015.0453754 6688521.428954332)   \n",
       "\n",
       "                                             address  id       name  \\\n",
       "0  Kauppakeskus Itis, 1-7, Itäkatu, Itäkeskus, Va...   1       Itis   \n",
       "1  Mannerheimintie, Keskusta, Kluuvi, Eteläinen s...   2      Forum   \n",
       "2  Iso Omena, 11, Piispansilta, Espoo, Helsingin ...   3  Iso-omena   \n",
       "3  3-9, Leppävaarankatu, Etelä-Leppävaara, Leppäv...   4      Sello   \n",
       "4  Vantaa, Helsingin seutukunta, Uusimaa, Etelä-S...   5      Jumbo   \n",
       "\n",
       "                                    addr  \n",
       "0            Itäkatu 1-7, 00930 Helsinki  \n",
       "1  Mannerheimintie 14–20, 00100 Helsinki  \n",
       "2           Piispansilta 11, 02230 Espoo  \n",
       "3       Leppävaarankatu 3-9, 02600 Espoo  \n",
       "4                           01510 Vantaa  "
      ]
     },
     "execution_count": 10,
     "metadata": {},
     "output_type": "execute_result"
    }
   ],
   "source": [
    "# Check the join output\n",
    "geodata.head()"
   ]
  },
  {
   "cell_type": "markdown",
   "metadata": {
    "deletable": true,
    "editable": true
   },
   "source": [
    "- Save the output as a Shapefile called `shopping_centers.shp`"
   ]
  },
  {
   "cell_type": "code",
   "execution_count": 13,
   "metadata": {
    "collapsed": true,
    "deletable": false,
    "editable": true,
    "nbgrader": {
     "checksum": "362eacaf5abe4a319dda3a28a04ef594",
     "grade": false,
     "grade_id": "save_data",
     "locked": false,
     "schema_version": 1,
     "solution": true
    }
   },
   "outputs": [],
   "source": [
    "# Define output filepath\n",
    "out_fp = r'shopping_centers.shp'\n",
    "# Save file\n",
    "geodata.to_file(out_fp)\n",
    "#gpd.GeoDataFrame(geodata).T.apply(pd.to_numeric, errors='ignore').to_file(out_fp)"
   ]
  },
  {
   "cell_type": "code",
   "execution_count": 14,
   "metadata": {
    "collapsed": true,
    "deletable": false,
    "editable": false,
    "nbgrader": {
     "checksum": "25ad7e046902b84259f4ccfe618dcc88",
     "grade": true,
     "grade_id": "save_data_test",
     "locked": true,
     "points": 0.5,
     "schema_version": 1,
     "solution": false
    }
   },
   "outputs": [
    {
     "name": "stdout",
     "output_type": "stream",
     "text": [
      "Geocoded output is stored in: shopping_centers.shp\n"
     ]
    }
   ],
   "source": [
    "# Print info about output file\n",
    "print(\"Geocoded output is stored in:\", out_fp)"
   ]
  },
  {
   "cell_type": "markdown",
   "metadata": {
    "deletable": true,
    "editable": true
   },
   "source": [
    "## Problem 2: Create buffers around shopping centers (5 points)\n",
    "\n",
    "Let's continue with our case study and calculate a 5 km `buffer` around the geocoded points. \n",
    "\n",
    "\n",
    "- Create a new column called `buffer` to your shopping-centers GeoDataFrame (the variable name should be ``geodata``)."
   ]
  },
  {
   "cell_type": "code",
   "execution_count": 62,
   "metadata": {
    "collapsed": true,
    "deletable": false,
    "editable": true,
    "nbgrader": {
     "checksum": "908d9a6ea9f7776e8eeeefcfe920c9a0",
     "grade": false,
     "grade_id": "new_column",
     "locked": false,
     "schema_version": 1,
     "solution": true
    }
   },
   "outputs": [],
   "source": [
    "# cerate a new column\n",
    "geodata[\"buffer\"] = None"
   ]
  },
  {
   "cell_type": "markdown",
   "metadata": {
    "deletable": true,
    "editable": true
   },
   "source": [
    "- Calculate a 5 km buffer for each geocoded point:\n",
    "    - Iterate over the rows in your GeoDataFrame and update the `buffer` column with a 5 km buffer Polygon.\n",
    "    - Use Shapely's [buffer](http://toblerity.org/shapely/manual.html#object.buffer) function (see the link for details how to use it)\n",
    "    - You only need to use the `distance` -parameter, don't care about the other parameters."
   ]
  },
  {
   "cell_type": "code",
   "execution_count": 64,
   "metadata": {
    "collapsed": true,
    "deletable": false,
    "editable": true,
    "nbgrader": {
     "checksum": "f45cb9b3fa88f50f0f83991d3f132643",
     "grade": false,
     "grade_id": "buffer",
     "locked": false,
     "schema_version": 1,
     "solution": true
    }
   },
   "outputs": [],
   "source": [
    "# add the point buffer\n",
    "from shapely.geometry import CAP_STYLE, JOIN_STYLE\n",
    "\n",
    "# run the loop\n",
    "#for ind, row in temp2.iterrows():\n",
    "    #temp2.loc[ind,\"buffer\"] = temp2.loc[ind,\"geometry\"].buffer(5000)\n",
    "geodata[\"buffer\"] = geodata.apply(lambda row: geodata[\"geometry\"].buffer(5000), axis=0)  "
   ]
  },
  {
   "cell_type": "code",
   "execution_count": 65,
   "metadata": {
    "collapsed": true,
    "deletable": false,
    "editable": false,
    "nbgrader": {
     "checksum": "01f2b32c2f3735612c6251ed7ce9cc35",
     "grade": true,
     "grade_id": "buffer_test",
     "locked": true,
     "points": 4,
     "schema_version": 1,
     "solution": false
    }
   },
   "outputs": [
    {
     "name": "stdout",
     "output_type": "stream",
     "text": [
      "                                      geometry  \\\n",
      "0  POINT (25504598.41930912 6677662.776904543)   \n",
      "1   POINT (25496453.7290285 6673171.406976718)   \n",
      "2  POINT (25485470.33883667 6672071.306847659)   \n",
      "3  POINT (25489463.74430429 6678451.782203159)   \n",
      "4   POINT (25502015.0453754 6688521.428954332)   \n",
      "\n",
      "                                             address  id       name  \\\n",
      "0  Kauppakeskus Itis, 1-7, Itäkatu, Itäkeskus, Va...   1       Itis   \n",
      "1  Mannerheimintie, Keskusta, Kluuvi, Eteläinen s...   2      Forum   \n",
      "2  Iso Omena, 11, Piispansilta, Espoo, Helsingin ...   3  Iso-omena   \n",
      "3  3-9, Leppävaarankatu, Etelä-Leppävaara, Leppäv...   4      Sello   \n",
      "4  Vantaa, Helsingin seutukunta, Uusimaa, Etelä-S...   5      Jumbo   \n",
      "\n",
      "                                    addr  \\\n",
      "0            Itäkatu 1-7, 00930 Helsinki   \n",
      "1  Mannerheimintie 14–20, 00100 Helsinki   \n",
      "2           Piispansilta 11, 02230 Espoo   \n",
      "3       Leppävaarankatu 3-9, 02600 Espoo   \n",
      "4                           01510 Vantaa   \n",
      "\n",
      "                                              buffer  \n",
      "0  POLYGON ((25509598.41930912 6677662.776904543,...  \n",
      "1  POLYGON ((25501453.7290285 6673171.406976718, ...  \n",
      "2  POLYGON ((25490470.33883667 6672071.306847659,...  \n",
      "3  POLYGON ((25494463.74430429 6678451.782203159,...  \n",
      "4  POLYGON ((25507015.0453754 6688521.428954332, ...  \n"
     ]
    }
   ],
   "source": [
    "print(geodata.head())"
   ]
  },
  {
   "cell_type": "code",
   "execution_count": 67,
   "metadata": {},
   "outputs": [],
   "source": [
    "temp = geodata.copy()"
   ]
  },
  {
   "cell_type": "markdown",
   "metadata": {
    "deletable": true,
    "editable": true
   },
   "source": [
    "- Replace the values in `geometry` column with the values of `buffer` column"
   ]
  },
  {
   "cell_type": "code",
   "execution_count": 69,
   "metadata": {
    "collapsed": true,
    "deletable": false,
    "editable": true,
    "nbgrader": {
     "checksum": "4dbc3cfc149f2391c1c6b4274603a8e9",
     "grade": false,
     "grade_id": "geometry",
     "locked": false,
     "schema_version": 1,
     "solution": true
    }
   },
   "outputs": [],
   "source": [
    "# Replace the values in geometry column with the values of buffer column\n",
    "#pop = pop.rename(columns={'ASUKKAITA': 'pop17'})\n",
    "geodata[\"geometry\"] = geodata[\"buffer\"]"
   ]
  },
  {
   "cell_type": "code",
   "execution_count": 70,
   "metadata": {
    "collapsed": true,
    "deletable": false,
    "editable": false,
    "nbgrader": {
     "checksum": "c6825666643e9beac83e94c9e91d6750",
     "grade": true,
     "grade_id": "geometry_test",
     "locked": true,
     "points": 1,
     "schema_version": 1,
     "solution": false
    }
   },
   "outputs": [
    {
     "name": "stdout",
     "output_type": "stream",
     "text": [
      "                                            geometry  \\\n",
      "0  POLYGON ((25509598.41930912 6677662.776904543,...   \n",
      "1  POLYGON ((25501453.7290285 6673171.406976718, ...   \n",
      "2  POLYGON ((25490470.33883667 6672071.306847659,...   \n",
      "3  POLYGON ((25494463.74430429 6678451.782203159,...   \n",
      "4  POLYGON ((25507015.0453754 6688521.428954332, ...   \n",
      "\n",
      "                                             address  id       name  \\\n",
      "0  Kauppakeskus Itis, 1-7, Itäkatu, Itäkeskus, Va...   1       Itis   \n",
      "1  Mannerheimintie, Keskusta, Kluuvi, Eteläinen s...   2      Forum   \n",
      "2  Iso Omena, 11, Piispansilta, Espoo, Helsingin ...   3  Iso-omena   \n",
      "3  3-9, Leppävaarankatu, Etelä-Leppävaara, Leppäv...   4      Sello   \n",
      "4  Vantaa, Helsingin seutukunta, Uusimaa, Etelä-S...   5      Jumbo   \n",
      "\n",
      "                                    addr  \\\n",
      "0            Itäkatu 1-7, 00930 Helsinki   \n",
      "1  Mannerheimintie 14–20, 00100 Helsinki   \n",
      "2           Piispansilta 11, 02230 Espoo   \n",
      "3       Leppävaarankatu 3-9, 02600 Espoo   \n",
      "4                           01510 Vantaa   \n",
      "\n",
      "                                              buffer  \n",
      "0  POLYGON ((25509598.41930912 6677662.776904543,...  \n",
      "1  POLYGON ((25501453.7290285 6673171.406976718, ...  \n",
      "2  POLYGON ((25490470.33883667 6672071.306847659,...  \n",
      "3  POLYGON ((25494463.74430429 6678451.782203159,...  \n",
      "4  POLYGON ((25507015.0453754 6688521.428954332, ...  \n"
     ]
    }
   ],
   "source": [
    "print(geodata.head())"
   ]
  },
  {
   "cell_type": "markdown",
   "metadata": {
    "deletable": true,
    "editable": true
   },
   "source": [
    "## Problem 3: How many people live within 5 km from shopping centers? (5 points)\n",
    "\n",
    "Last step in our analysis is to make a spatial join between our point-buffer layer and population data in order to find out how many people live near each shopping center. We will use the same data as we did during lesson 3; **a Population Grid from 2017** that is available from the [Helsinki Region Infoshare (HRI)](https://www.hsy.fi/fi/asiantuntijalle/avoindata/Sivut/AvoinData.aspx?dataID=7). \n",
    "\n",
    "Before solving this problem you need have downloaded the population grid. See instructions for downloading the data using **wget** from the [lesson 3 materials](https://automating-gis-processes.github.io/2018/master/notebooks/L3/spatial-join.html#Download-and-clean-the-data). \n",
    "\n",
    "**Steps**\n",
    "\n",
    "- Read the data into a geodataframe\n",
    "\n",
    "- Select only the useful columns: ``'ASUKKAITA'`` (=population count per grid square) and ``'geometry'`` from the population grid\n",
    "\n",
    "- Make a spatial join between your buffered point layer and population grid layer\n",
    "\n",
    "  - Note: Join the information now from buffer layer **into the population grid layer**\n",
    "\n",
    "- Group the joined layer by shopping center index\n",
    "\n",
    "- Calculate the sum of population living within 5 km for each shopping center.\n",
    "\n",
    "- Print out the population living within 5km from each shopping center:\n",
    "\n",
    "     - Itis\n",
    "     - Forum\n",
    "     - Iso-omena\n",
    "     - Sello\n",
    "     - Jumbo\n",
    "     - REDI\n",
    "\n",
    "*Feel free to divide your solution into several codeblocks! Remember to comment your code  :)*"
   ]
  },
  {
   "cell_type": "code",
   "execution_count": 72,
   "metadata": {
    "collapsed": true,
    "deletable": false,
    "editable": true,
    "nbgrader": {
     "checksum": "60c106a2c1c30fade7c8d6bac0637a84",
     "grade": false,
     "grade_id": "problem_3",
     "locked": false,
     "schema_version": 1,
     "solution": true
    }
   },
   "outputs": [
    {
     "data": {
      "text/html": [
       "<div>\n",
       "<style scoped>\n",
       "    .dataframe tbody tr th:only-of-type {\n",
       "        vertical-align: middle;\n",
       "    }\n",
       "\n",
       "    .dataframe tbody tr th {\n",
       "        vertical-align: top;\n",
       "    }\n",
       "\n",
       "    .dataframe thead th {\n",
       "        text-align: right;\n",
       "    }\n",
       "</style>\n",
       "<table border=\"1\" class=\"dataframe\">\n",
       "  <thead>\n",
       "    <tr style=\"text-align: right;\">\n",
       "      <th></th>\n",
       "      <th>INDEX</th>\n",
       "      <th>ASUKKAITA</th>\n",
       "      <th>ASVALJYYS</th>\n",
       "      <th>IKA0_9</th>\n",
       "      <th>IKA10_19</th>\n",
       "      <th>IKA20_29</th>\n",
       "      <th>IKA30_39</th>\n",
       "      <th>IKA40_49</th>\n",
       "      <th>IKA50_59</th>\n",
       "      <th>IKA60_69</th>\n",
       "      <th>IKA70_79</th>\n",
       "      <th>IKA_YLI80</th>\n",
       "      <th>geometry</th>\n",
       "    </tr>\n",
       "  </thead>\n",
       "  <tbody>\n",
       "    <tr>\n",
       "      <th>0</th>\n",
       "      <td>688</td>\n",
       "      <td>9</td>\n",
       "      <td>28.0</td>\n",
       "      <td>99</td>\n",
       "      <td>99</td>\n",
       "      <td>99</td>\n",
       "      <td>99</td>\n",
       "      <td>99</td>\n",
       "      <td>99</td>\n",
       "      <td>99</td>\n",
       "      <td>99</td>\n",
       "      <td>99</td>\n",
       "      <td>POLYGON Z ((25472499.99532626 6689749.00506918...</td>\n",
       "    </tr>\n",
       "    <tr>\n",
       "      <th>1</th>\n",
       "      <td>710</td>\n",
       "      <td>8</td>\n",
       "      <td>44.0</td>\n",
       "      <td>99</td>\n",
       "      <td>99</td>\n",
       "      <td>99</td>\n",
       "      <td>99</td>\n",
       "      <td>99</td>\n",
       "      <td>99</td>\n",
       "      <td>99</td>\n",
       "      <td>99</td>\n",
       "      <td>99</td>\n",
       "      <td>POLYGON Z ((25472499.99532626 6684249.00413040...</td>\n",
       "    </tr>\n",
       "    <tr>\n",
       "      <th>2</th>\n",
       "      <td>711</td>\n",
       "      <td>5</td>\n",
       "      <td>90.0</td>\n",
       "      <td>99</td>\n",
       "      <td>99</td>\n",
       "      <td>99</td>\n",
       "      <td>99</td>\n",
       "      <td>99</td>\n",
       "      <td>99</td>\n",
       "      <td>99</td>\n",
       "      <td>99</td>\n",
       "      <td>99</td>\n",
       "      <td>POLYGON Z ((25472499.99532626 6683999.00499700...</td>\n",
       "    </tr>\n",
       "    <tr>\n",
       "      <th>3</th>\n",
       "      <td>715</td>\n",
       "      <td>12</td>\n",
       "      <td>37.0</td>\n",
       "      <td>99</td>\n",
       "      <td>99</td>\n",
       "      <td>99</td>\n",
       "      <td>99</td>\n",
       "      <td>99</td>\n",
       "      <td>99</td>\n",
       "      <td>99</td>\n",
       "      <td>99</td>\n",
       "      <td>99</td>\n",
       "      <td>POLYGON Z ((25472499.99532626 6682998.99846143...</td>\n",
       "    </tr>\n",
       "    <tr>\n",
       "      <th>4</th>\n",
       "      <td>848</td>\n",
       "      <td>6</td>\n",
       "      <td>44.0</td>\n",
       "      <td>99</td>\n",
       "      <td>99</td>\n",
       "      <td>99</td>\n",
       "      <td>99</td>\n",
       "      <td>99</td>\n",
       "      <td>99</td>\n",
       "      <td>99</td>\n",
       "      <td>99</td>\n",
       "      <td>99</td>\n",
       "      <td>POLYGON Z ((25472749.99291839 6690249.00333598...</td>\n",
       "    </tr>\n",
       "  </tbody>\n",
       "</table>\n",
       "</div>"
      ],
      "text/plain": [
       "   INDEX  ASUKKAITA  ASVALJYYS  IKA0_9  IKA10_19  IKA20_29  IKA30_39  \\\n",
       "0    688          9       28.0      99        99        99        99   \n",
       "1    710          8       44.0      99        99        99        99   \n",
       "2    711          5       90.0      99        99        99        99   \n",
       "3    715         12       37.0      99        99        99        99   \n",
       "4    848          6       44.0      99        99        99        99   \n",
       "\n",
       "   IKA40_49  IKA50_59  IKA60_69  IKA70_79  IKA_YLI80  \\\n",
       "0        99        99        99        99         99   \n",
       "1        99        99        99        99         99   \n",
       "2        99        99        99        99         99   \n",
       "3        99        99        99        99         99   \n",
       "4        99        99        99        99         99   \n",
       "\n",
       "                                            geometry  \n",
       "0  POLYGON Z ((25472499.99532626 6689749.00506918...  \n",
       "1  POLYGON Z ((25472499.99532626 6684249.00413040...  \n",
       "2  POLYGON Z ((25472499.99532626 6683999.00499700...  \n",
       "3  POLYGON Z ((25472499.99532626 6682998.99846143...  \n",
       "4  POLYGON Z ((25472749.99291839 6690249.00333598...  "
      ]
     },
     "execution_count": 72,
     "metadata": {},
     "output_type": "execute_result"
    }
   ],
   "source": [
    "# read the data\n",
    "fp = \"Pop17/Vaestoruudukko_2017.shp\"\n",
    "\n",
    "# Read the data\n",
    "pop = gpd.read_file(fp)\n",
    "\n",
    "# See the first rows\n",
    "pop.head()"
   ]
  },
  {
   "cell_type": "code",
   "execution_count": 73,
   "metadata": {
    "collapsed": true,
    "deletable": false,
    "editable": true,
    "nbgrader": {
     "checksum": "11ade4eec78583e5b1c44c5c866417da",
     "grade": false,
     "grade_id": "print_solutions",
     "locked": false,
     "schema_version": 1,
     "solution": true
    }
   },
   "outputs": [
    {
     "data": {
      "text/html": [
       "<div>\n",
       "<style scoped>\n",
       "    .dataframe tbody tr th:only-of-type {\n",
       "        vertical-align: middle;\n",
       "    }\n",
       "\n",
       "    .dataframe tbody tr th {\n",
       "        vertical-align: top;\n",
       "    }\n",
       "\n",
       "    .dataframe thead th {\n",
       "        text-align: right;\n",
       "    }\n",
       "</style>\n",
       "<table border=\"1\" class=\"dataframe\">\n",
       "  <thead>\n",
       "    <tr style=\"text-align: right;\">\n",
       "      <th></th>\n",
       "      <th>ASUKKAITA</th>\n",
       "      <th>geometry</th>\n",
       "    </tr>\n",
       "  </thead>\n",
       "  <tbody>\n",
       "    <tr>\n",
       "      <th>0</th>\n",
       "      <td>9</td>\n",
       "      <td>POLYGON Z ((25472499.99532626 6689749.00506918...</td>\n",
       "    </tr>\n",
       "    <tr>\n",
       "      <th>1</th>\n",
       "      <td>8</td>\n",
       "      <td>POLYGON Z ((25472499.99532626 6684249.00413040...</td>\n",
       "    </tr>\n",
       "    <tr>\n",
       "      <th>2</th>\n",
       "      <td>5</td>\n",
       "      <td>POLYGON Z ((25472499.99532626 6683999.00499700...</td>\n",
       "    </tr>\n",
       "    <tr>\n",
       "      <th>3</th>\n",
       "      <td>12</td>\n",
       "      <td>POLYGON Z ((25472499.99532626 6682998.99846143...</td>\n",
       "    </tr>\n",
       "    <tr>\n",
       "      <th>4</th>\n",
       "      <td>6</td>\n",
       "      <td>POLYGON Z ((25472749.99291839 6690249.00333598...</td>\n",
       "    </tr>\n",
       "  </tbody>\n",
       "</table>\n",
       "</div>"
      ],
      "text/plain": [
       "   ASUKKAITA                                           geometry\n",
       "0          9  POLYGON Z ((25472499.99532626 6689749.00506918...\n",
       "1          8  POLYGON Z ((25472499.99532626 6684249.00413040...\n",
       "2          5  POLYGON Z ((25472499.99532626 6683999.00499700...\n",
       "3         12  POLYGON Z ((25472499.99532626 6682998.99846143...\n",
       "4          6  POLYGON Z ((25472749.99291839 6690249.00333598..."
      ]
     },
     "execution_count": 73,
     "metadata": {},
     "output_type": "execute_result"
    }
   ],
   "source": [
    "# select two useful columns fro the data\n",
    "\n",
    "# Columns that will be sected\n",
    "selected_cols = ['ASUKKAITA', 'geometry']\n",
    "\n",
    "# Select those columns\n",
    "pop = pop[selected_cols]\n",
    "\n",
    "# Let's see the last 2 rows\n",
    "pop.head()"
   ]
  },
  {
   "cell_type": "code",
   "execution_count": 74,
   "metadata": {
    "collapsed": true,
    "deletable": false,
    "editable": false,
    "nbgrader": {
     "checksum": "26d3b384236631a458e789219baad37f",
     "grade": true,
     "grade_id": "problem_3_tests",
     "locked": true,
     "points": 0,
     "schema_version": 1,
     "solution": false
    }
   },
   "outputs": [
    {
     "data": {
      "text/plain": [
       "False"
      ]
     },
     "execution_count": 74,
     "metadata": {},
     "output_type": "execute_result"
    }
   ],
   "source": [
    "# Are the layers in the same projection?\n",
    "geodata.crs == pop.crs"
   ]
  },
  {
   "cell_type": "code",
   "execution_count": 77,
   "metadata": {},
   "outputs": [],
   "source": [
    "# re-project addresses to the projection of the population layer\n",
    "geodata = geodata.to_crs(pop.crs)"
   ]
  },
  {
   "cell_type": "code",
   "execution_count": 78,
   "metadata": {},
   "outputs": [
    {
     "data": {
      "text/plain": [
       "True"
      ]
     },
     "execution_count": 78,
     "metadata": {},
     "output_type": "execute_result"
    }
   ],
   "source": [
    "# Are the layers in the same projection?\n",
    "geodata.crs == pop.crs"
   ]
  },
  {
   "cell_type": "code",
   "execution_count": 81,
   "metadata": {},
   "outputs": [
    {
     "data": {
      "text/plain": [
       "<matplotlib.axes._subplots.AxesSubplot at 0x7f60720d0b70>"
      ]
     },
     "execution_count": 81,
     "metadata": {},
     "output_type": "execute_result"
    },
    {
     "data": {
      "image/png": "[encoded data removed]",
      "text/plain": [
       "<Figure size 432x288 with 1 Axes>"
      ]
     },
     "metadata": {},
     "output_type": "display_data"
    }
   ],
   "source": [
    "# just check the data have a overlap\n",
    "import geopandas as gpd\n",
    "import matplotlib.pyplot as plt\n",
    "import shapely.speedups\n",
    "%matplotlib inline\n",
    "ax = geodata.plot(facecolor='gray')\n",
    "pop.plot(ax=ax, facecolor='None', edgecolor='blue')"
   ]
  },
  {
   "cell_type": "code",
   "execution_count": 84,
   "metadata": {},
   "outputs": [
    {
     "data": {
      "text/html": [
       "<div>\n",
       "<style scoped>\n",
       "    .dataframe tbody tr th:only-of-type {\n",
       "        vertical-align: middle;\n",
       "    }\n",
       "\n",
       "    .dataframe tbody tr th {\n",
       "        vertical-align: top;\n",
       "    }\n",
       "\n",
       "    .dataframe thead th {\n",
       "        text-align: right;\n",
       "    }\n",
       "</style>\n",
       "<table border=\"1\" class=\"dataframe\">\n",
       "  <thead>\n",
       "    <tr style=\"text-align: right;\">\n",
       "      <th></th>\n",
       "      <th>ASUKKAITA</th>\n",
       "      <th>geometry</th>\n",
       "      <th>index_right</th>\n",
       "      <th>address</th>\n",
       "      <th>id</th>\n",
       "      <th>name</th>\n",
       "      <th>addr</th>\n",
       "      <th>buffer</th>\n",
       "    </tr>\n",
       "  </thead>\n",
       "  <tbody>\n",
       "    <tr>\n",
       "      <th>493</th>\n",
       "      <td>134</td>\n",
       "      <td>POLYGON Z ((25480499.99408239 6672249.00571924...</td>\n",
       "      <td>2</td>\n",
       "      <td>Iso Omena, 11, Piispansilta, Espoo, Helsingin ...</td>\n",
       "      <td>3</td>\n",
       "      <td>Iso-omena</td>\n",
       "      <td>Piispansilta 11, 02230 Espoo</td>\n",
       "      <td>POLYGON ((25490470.33883667 6672071.306847659,...</td>\n",
       "    </tr>\n",
       "    <tr>\n",
       "      <th>494</th>\n",
       "      <td>105</td>\n",
       "      <td>POLYGON Z ((25480499.99408239 6671998.99658387...</td>\n",
       "      <td>2</td>\n",
       "      <td>Iso Omena, 11, Piispansilta, Espoo, Helsingin ...</td>\n",
       "      <td>3</td>\n",
       "      <td>Iso-omena</td>\n",
       "      <td>Piispansilta 11, 02230 Espoo</td>\n",
       "      <td>POLYGON ((25490470.33883667 6672071.306847659,...</td>\n",
       "    </tr>\n",
       "    <tr>\n",
       "      <th>495</th>\n",
       "      <td>24</td>\n",
       "      <td>POLYGON Z ((25480499.99408239 6671748.99745047...</td>\n",
       "      <td>2</td>\n",
       "      <td>Iso Omena, 11, Piispansilta, Espoo, Helsingin ...</td>\n",
       "      <td>3</td>\n",
       "      <td>Iso-omena</td>\n",
       "      <td>Piispansilta 11, 02230 Espoo</td>\n",
       "      <td>POLYGON ((25490470.33883667 6672071.306847659,...</td>\n",
       "    </tr>\n",
       "    <tr>\n",
       "      <th>532</th>\n",
       "      <td>247</td>\n",
       "      <td>POLYGON Z ((25480750.00009762 6673249.00225285...</td>\n",
       "      <td>2</td>\n",
       "      <td>Iso Omena, 11, Piispansilta, Espoo, Helsingin ...</td>\n",
       "      <td>3</td>\n",
       "      <td>Iso-omena</td>\n",
       "      <td>Piispansilta 11, 02230 Espoo</td>\n",
       "      <td>POLYGON ((25490470.33883667 6672071.306847659,...</td>\n",
       "    </tr>\n",
       "    <tr>\n",
       "      <th>533</th>\n",
       "      <td>64</td>\n",
       "      <td>POLYGON Z ((25480750.00009762 6672999.00311944...</td>\n",
       "      <td>2</td>\n",
       "      <td>Iso Omena, 11, Piispansilta, Espoo, Helsingin ...</td>\n",
       "      <td>3</td>\n",
       "      <td>Iso-omena</td>\n",
       "      <td>Piispansilta 11, 02230 Espoo</td>\n",
       "      <td>POLYGON ((25490470.33883667 6672071.306847659,...</td>\n",
       "    </tr>\n",
       "  </tbody>\n",
       "</table>\n",
       "</div>"
      ],
      "text/plain": [
       "     ASUKKAITA                                           geometry  \\\n",
       "493        134  POLYGON Z ((25480499.99408239 6672249.00571924...   \n",
       "494        105  POLYGON Z ((25480499.99408239 6671998.99658387...   \n",
       "495         24  POLYGON Z ((25480499.99408239 6671748.99745047...   \n",
       "532        247  POLYGON Z ((25480750.00009762 6673249.00225285...   \n",
       "533         64  POLYGON Z ((25480750.00009762 6672999.00311944...   \n",
       "\n",
       "     index_right                                            address  id  \\\n",
       "493            2  Iso Omena, 11, Piispansilta, Espoo, Helsingin ...   3   \n",
       "494            2  Iso Omena, 11, Piispansilta, Espoo, Helsingin ...   3   \n",
       "495            2  Iso Omena, 11, Piispansilta, Espoo, Helsingin ...   3   \n",
       "532            2  Iso Omena, 11, Piispansilta, Espoo, Helsingin ...   3   \n",
       "533            2  Iso Omena, 11, Piispansilta, Espoo, Helsingin ...   3   \n",
       "\n",
       "          name                          addr  \\\n",
       "493  Iso-omena  Piispansilta 11, 02230 Espoo   \n",
       "494  Iso-omena  Piispansilta 11, 02230 Espoo   \n",
       "495  Iso-omena  Piispansilta 11, 02230 Espoo   \n",
       "532  Iso-omena  Piispansilta 11, 02230 Espoo   \n",
       "533  Iso-omena  Piispansilta 11, 02230 Espoo   \n",
       "\n",
       "                                                buffer  \n",
       "493  POLYGON ((25490470.33883667 6672071.306847659,...  \n",
       "494  POLYGON ((25490470.33883667 6672071.306847659,...  \n",
       "495  POLYGON ((25490470.33883667 6672071.306847659,...  \n",
       "532  POLYGON ((25490470.33883667 6672071.306847659,...  \n",
       "533  POLYGON ((25490470.33883667 6672071.306847659,...  "
      ]
     },
     "execution_count": 84,
     "metadata": {},
     "output_type": "execute_result"
    }
   ],
   "source": [
    "#Make a spatial join between your buffered point layer and population grid layer\n",
    "join = gpd.sjoin(pop, geodata, how=\"inner\", op=\"within\")\n",
    "join.head()"
   ]
  },
  {
   "cell_type": "code",
   "execution_count": 100,
   "metadata": {},
   "outputs": [],
   "source": [
    "# Group the joined layer by shopping center index\n",
    "grouped = join.groupby(\"id\")\n",
    "\n",
    "# create a new geodatafram\n",
    "shopping_pop = gpd.GeoDataFrame()\n",
    "#Calculate the sum of population living within 5 km for each shopping center.\n",
    "for key, gro in grouped:\n",
    "    pop_sum = gro[[\"ASUKKAITA\"]].sum()  # double[] makes the pop_sum a dataframe\n",
    "    pop_sum[\"id_n\"] = key\n",
    "    # Append the aggregated values into the DataFrame\n",
    "    shopping_pop = shopping_pop.append(pop_sum, ignore_index=True)"
   ]
  },
  {
   "cell_type": "code",
   "execution_count": 103,
   "metadata": {},
   "outputs": [
    {
     "data": {
      "text/html": [
       "<div>\n",
       "<style scoped>\n",
       "    .dataframe tbody tr th:only-of-type {\n",
       "        vertical-align: middle;\n",
       "    }\n",
       "\n",
       "    .dataframe tbody tr th {\n",
       "        vertical-align: top;\n",
       "    }\n",
       "\n",
       "    .dataframe thead th {\n",
       "        text-align: right;\n",
       "    }\n",
       "</style>\n",
       "<table border=\"1\" class=\"dataframe\">\n",
       "  <thead>\n",
       "    <tr style=\"text-align: right;\">\n",
       "      <th></th>\n",
       "      <th>ASUKKAITA</th>\n",
       "      <th>id_n</th>\n",
       "    </tr>\n",
       "  </thead>\n",
       "  <tbody>\n",
       "    <tr>\n",
       "      <th>0</th>\n",
       "      <td>175632.0</td>\n",
       "      <td>1.0</td>\n",
       "    </tr>\n",
       "    <tr>\n",
       "      <th>1</th>\n",
       "      <td>230376.0</td>\n",
       "      <td>2.0</td>\n",
       "    </tr>\n",
       "    <tr>\n",
       "      <th>2</th>\n",
       "      <td>109081.0</td>\n",
       "      <td>3.0</td>\n",
       "    </tr>\n",
       "    <tr>\n",
       "      <th>3</th>\n",
       "      <td>174200.0</td>\n",
       "      <td>4.0</td>\n",
       "    </tr>\n",
       "    <tr>\n",
       "      <th>4</th>\n",
       "      <td>106918.0</td>\n",
       "      <td>5.0</td>\n",
       "    </tr>\n",
       "    <tr>\n",
       "      <th>5</th>\n",
       "      <td>249187.0</td>\n",
       "      <td>6.0</td>\n",
       "    </tr>\n",
       "  </tbody>\n",
       "</table>\n",
       "</div>"
      ],
      "text/plain": [
       "   ASUKKAITA  id_n\n",
       "0   175632.0   1.0\n",
       "1   230376.0   2.0\n",
       "2   109081.0   3.0\n",
       "3   174200.0   4.0\n",
       "4   106918.0   5.0\n",
       "5   249187.0   6.0"
      ]
     },
     "execution_count": 103,
     "metadata": {},
     "output_type": "execute_result"
    }
   ],
   "source": [
    "shopping_pop"
   ]
  },
  {
   "cell_type": "code",
   "execution_count": 105,
   "metadata": {},
   "outputs": [
    {
     "data": {
      "text/html": [
       "<div>\n",
       "<style scoped>\n",
       "    .dataframe tbody tr th:only-of-type {\n",
       "        vertical-align: middle;\n",
       "    }\n",
       "\n",
       "    .dataframe tbody tr th {\n",
       "        vertical-align: top;\n",
       "    }\n",
       "\n",
       "    .dataframe thead th {\n",
       "        text-align: right;\n",
       "    }\n",
       "</style>\n",
       "<table border=\"1\" class=\"dataframe\">\n",
       "  <thead>\n",
       "    <tr style=\"text-align: right;\">\n",
       "      <th></th>\n",
       "      <th>ASUKKAITA</th>\n",
       "      <th>id_n</th>\n",
       "      <th>id</th>\n",
       "      <th>name</th>\n",
       "      <th>addr</th>\n",
       "    </tr>\n",
       "  </thead>\n",
       "  <tbody>\n",
       "    <tr>\n",
       "      <th>0</th>\n",
       "      <td>175632.0</td>\n",
       "      <td>1.0</td>\n",
       "      <td>1</td>\n",
       "      <td>Itis</td>\n",
       "      <td>Itäkatu 1-7, 00930 Helsinki</td>\n",
       "    </tr>\n",
       "    <tr>\n",
       "      <th>1</th>\n",
       "      <td>230376.0</td>\n",
       "      <td>2.0</td>\n",
       "      <td>2</td>\n",
       "      <td>Forum</td>\n",
       "      <td>Mannerheimintie 14–20, 00100 Helsinki</td>\n",
       "    </tr>\n",
       "    <tr>\n",
       "      <th>2</th>\n",
       "      <td>109081.0</td>\n",
       "      <td>3.0</td>\n",
       "      <td>3</td>\n",
       "      <td>Iso-omena</td>\n",
       "      <td>Piispansilta 11, 02230 Espoo</td>\n",
       "    </tr>\n",
       "    <tr>\n",
       "      <th>3</th>\n",
       "      <td>174200.0</td>\n",
       "      <td>4.0</td>\n",
       "      <td>4</td>\n",
       "      <td>Sello</td>\n",
       "      <td>Leppävaarankatu 3-9, 02600 Espoo</td>\n",
       "    </tr>\n",
       "    <tr>\n",
       "      <th>4</th>\n",
       "      <td>106918.0</td>\n",
       "      <td>5.0</td>\n",
       "      <td>5</td>\n",
       "      <td>Jumbo</td>\n",
       "      <td>01510 Vantaa</td>\n",
       "    </tr>\n",
       "  </tbody>\n",
       "</table>\n",
       "</div>"
      ],
      "text/plain": [
       "   ASUKKAITA  id_n  id       name                                   addr\n",
       "0   175632.0   1.0   1       Itis            Itäkatu 1-7, 00930 Helsinki\n",
       "1   230376.0   2.0   2      Forum  Mannerheimintie 14–20, 00100 Helsinki\n",
       "2   109081.0   3.0   3  Iso-omena           Piispansilta 11, 02230 Espoo\n",
       "3   174200.0   4.0   4      Sello       Leppävaarankatu 3-9, 02600 Espoo\n",
       "4   106918.0   5.0   5      Jumbo                           01510 Vantaa"
      ]
     },
     "execution_count": 105,
     "metadata": {},
     "output_type": "execute_result"
    }
   ],
   "source": [
    "# Join the tables\n",
    "shopping_pop_joint = shopping_pop.join(data)\n",
    "shopping_pop_joint.head()"
   ]
  },
  {
   "cell_type": "code",
   "execution_count": 127,
   "metadata": {},
   "outputs": [
    {
     "name": "stdout",
     "output_type": "stream",
     "text": [
      "The population living within 5km from Itis is 175632. \n",
      "The population living within 5km from Forum is 230376. \n",
      "The population living within 5km from Iso-omena is 109081. \n",
      "The population living within 5km from Sello is 174200. \n",
      "The population living within 5km from Jumbo is 106918. \n",
      "The population living within 5km from REDI is 249187. \n"
     ]
    }
   ],
   "source": [
    "#Print out the population living within 5km from each shopping center:\n",
    "for ind, row in shopping_pop_joint.iterrows():\n",
    "    print(\"The population living within 5km from {0} is {1}. \".format(row[\"name\"], int(row[\"ASUKKAITA\"])))"
   ]
  },
  {
   "cell_type": "markdown",
   "metadata": {
    "deletable": true,
    "editable": true
   },
   "source": [
    "** How challenging did you find problems 1-3 (on scale to 1-5), and why?**"
   ]
  },
  {
   "cell_type": "markdown",
   "metadata": {
    "deletable": false,
    "editable": true,
    "nbgrader": {
     "checksum": "c2733f50297704a87490798267b61afc",
     "grade": true,
     "grade_id": "Check_problem_3",
     "locked": false,
     "points": 5,
     "schema_version": 1,
     "solution": true
    }
   },
   "source": []
  },
  {
   "cell_type": "markdown",
   "metadata": {},
   "source": [
    "I would give 3. a little difficult. I googled a lot as I want to know how to use apply function and I also a little bit forgot the previous content like \"groupby\""
   ]
  },
  {
   "cell_type": "markdown",
   "metadata": {
    "deletable": true,
    "editable": true
   },
   "source": [
    "Well done! Now you can continue to [problem 4](Exercise-3-Problem-4.ipynb)"
   ]
  }
 ],
 "metadata": {
  "anaconda-cloud": {},
  "kernelspec": {
   "display_name": "Python 3",
   "language": "python",
   "name": "python3"
  },
  "language_info": {
   "codemirror_mode": {
    "name": "ipython",
    "version": 3
   },
   "file_extension": ".py",
   "mimetype": "text/x-python",
   "name": "python",
   "nbconvert_exporter": "python",
   "pygments_lexer": "ipython3",
   "version": "3.6.5"
  }
 },
 "nbformat": 4,
 "nbformat_minor": 2
}
