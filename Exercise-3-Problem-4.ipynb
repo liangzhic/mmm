{
 "cells": [
  {
   "cell_type": "markdown",
   "metadata": {
    "deletable": true,
    "editable": true
   },
   "source": [
    "## Problem 4: What is the closest shopping center from your home / work? (5 points)\n",
    "\n",
    "In the last problem you should find out the closest shopping center from a) your home and b) work locations. \n",
    "\n",
    "**Steps**:\n",
    "\n",
    " - Create a txt-file called `activity_locations.txt` (use same formatting as in Problem 1) with two columns:\n",
    "    - id --> unique number (e.g. 0 and 1)\n",
    "    - addr --> address of your work and home (you don't need to reveal your home / work if you don't want to, these can be whatever two addresses from Helsinki!)\n",
    "    \n",
    "Save the text file into this repository.\n",
    "    \n",
    " - Read those addresses into Pandas and convert the addresses to Point objects using the geocoding functionalities of Geopandas\n",
    " - Find out the nearest shopping center to these points using the techniques shown during the lesson. You can use the shopping center addresses you geocoded in Problem 1 as the destination points.  "
   ]
  },
  {
   "cell_type": "code",
   "execution_count": 65,
   "metadata": {
    "collapsed": true,
    "deletable": false,
    "editable": true,
    "nbgrader": {
     "checksum": "cdd91b35924573f62712916e3a9a7e03",
     "grade": false,
     "grade_id": "problem_4",
     "locked": false,
     "schema_version": 1,
     "solution": true
    }
   },
   "outputs": [
    {
     "data": {
      "text/html": [
       "<div>\n",
       "<style scoped>\n",
       "    .dataframe tbody tr th:only-of-type {\n",
       "        vertical-align: middle;\n",
       "    }\n",
       "\n",
       "    .dataframe tbody tr th {\n",
       "        vertical-align: top;\n",
       "    }\n",
       "\n",
       "    .dataframe thead th {\n",
       "        text-align: right;\n",
       "    }\n",
       "</style>\n",
       "<table border=\"1\" class=\"dataframe\">\n",
       "  <thead>\n",
       "    <tr style=\"text-align: right;\">\n",
       "      <th></th>\n",
       "      <th>id</th>\n",
       "      <th>addr</th>\n",
       "    </tr>\n",
       "  </thead>\n",
       "  <tbody>\n",
       "    <tr>\n",
       "      <th>0</th>\n",
       "      <td>0</td>\n",
       "      <td>Gustaf Hällströminkatu 2, 00560 Helsinki</td>\n",
       "    </tr>\n",
       "    <tr>\n",
       "      <th>1</th>\n",
       "      <td>1</td>\n",
       "      <td>Talvelantie 4, 00700 Helsinki</td>\n",
       "    </tr>\n",
       "  </tbody>\n",
       "</table>\n",
       "</div>"
      ],
      "text/plain": [
       "   id                                      addr\n",
       "0   0  Gustaf Hällströminkatu 2, 00560 Helsinki\n",
       "1   1             Talvelantie 4, 00700 Helsinki"
      ]
     },
     "execution_count": 65,
     "metadata": {},
     "output_type": "execute_result"
    }
   ],
   "source": [
    "# Define filepath\n",
    "fp = r\"activity_locations.txt\"\n",
    "\n",
    "import pandas as pd\n",
    "import geopandas as gpd\n",
    "# Read the data (replace \"None\" with your own code)\n",
    "data = pd.read_csv(fp,sep=\";\")\n",
    "data"
   ]
  },
  {
   "cell_type": "code",
   "execution_count": 66,
   "metadata": {},
   "outputs": [
    {
     "data": {
      "text/html": [
       "<div>\n",
       "<style scoped>\n",
       "    .dataframe tbody tr th:only-of-type {\n",
       "        vertical-align: middle;\n",
       "    }\n",
       "\n",
       "    .dataframe tbody tr th {\n",
       "        vertical-align: top;\n",
       "    }\n",
       "\n",
       "    .dataframe thead th {\n",
       "        text-align: right;\n",
       "    }\n",
       "</style>\n",
       "<table border=\"1\" class=\"dataframe\">\n",
       "  <thead>\n",
       "    <tr style=\"text-align: right;\">\n",
       "      <th></th>\n",
       "      <th>geometry</th>\n",
       "      <th>address</th>\n",
       "    </tr>\n",
       "  </thead>\n",
       "  <tbody>\n",
       "    <tr>\n",
       "      <th>0</th>\n",
       "      <td>POINT (24.962130306481 60.20500895)</td>\n",
       "      <td>Tiedekirjasto, 2, Gustaf Hällströmin katu, Kum...</td>\n",
       "    </tr>\n",
       "    <tr>\n",
       "      <th>1</th>\n",
       "      <td>POINT (25.0012582628003 60.25398535)</td>\n",
       "      <td>Malmin terveysasema ja hammashoitola, 4, Talve...</td>\n",
       "    </tr>\n",
       "  </tbody>\n",
       "</table>\n",
       "</div>"
      ],
      "text/plain": [
       "                               geometry  \\\n",
       "0   POINT (24.962130306481 60.20500895)   \n",
       "1  POINT (25.0012582628003 60.25398535)   \n",
       "\n",
       "                                             address  \n",
       "0  Tiedekirjasto, 2, Gustaf Hällströmin katu, Kum...  \n",
       "1  Malmin terveysasema ja hammashoitola, 4, Talve...  "
      ]
     },
     "execution_count": 66,
     "metadata": {},
     "output_type": "execute_result"
    }
   ],
   "source": [
    "from geopandas.tools import geocode\n",
    "\n",
    "# Geocode addresses with Nominatim backend\n",
    "geo = geocode(data['addr'], provider = 'nominatim', user_agent = 'autogis_student_xx')\n",
    "geo.head()"
   ]
  },
  {
   "cell_type": "code",
   "execution_count": 67,
   "metadata": {},
   "outputs": [],
   "source": [
    "## read the shopping center\n",
    "# Read the data (replace \"None\" with your own code)\n",
    "shop_data = pd.read_csv(\"shopping_centers.txt\",sep=\";\")\n",
    "# Geocode addresses with Nominatim backend\n",
    "shop_geo = geocode(shop_data['addr'], provider = 'nominatim', user_agent = 'autogis_student_xx')"
   ]
  },
  {
   "cell_type": "code",
   "execution_count": 68,
   "metadata": {},
   "outputs": [
    {
     "name": "stdout",
     "output_type": "stream",
     "text": [
      "{'init': 'epsg:4326', 'no_defs': True}\n"
     ]
    }
   ],
   "source": [
    "# check the crs of geo and shop_geo\n",
    "if (geo.crs != shop_geo.crs):\n",
    "    geo = geo.to_crs(shop_geo.crs)\n",
    "print(geo.crs)"
   ]
  },
  {
   "cell_type": "code",
   "execution_count": 69,
   "metadata": {},
   "outputs": [
    {
     "data": {
      "text/html": [
       "<div>\n",
       "<style scoped>\n",
       "    .dataframe tbody tr th:only-of-type {\n",
       "        vertical-align: middle;\n",
       "    }\n",
       "\n",
       "    .dataframe tbody tr th {\n",
       "        vertical-align: top;\n",
       "    }\n",
       "\n",
       "    .dataframe thead th {\n",
       "        text-align: right;\n",
       "    }\n",
       "</style>\n",
       "<table border=\"1\" class=\"dataframe\">\n",
       "  <thead>\n",
       "    <tr style=\"text-align: right;\">\n",
       "      <th></th>\n",
       "      <th>geometry</th>\n",
       "      <th>address</th>\n",
       "      <th>id</th>\n",
       "      <th>name</th>\n",
       "      <th>addr</th>\n",
       "    </tr>\n",
       "  </thead>\n",
       "  <tbody>\n",
       "    <tr>\n",
       "      <th>0</th>\n",
       "      <td>POINT (25.0829394427168 60.21170635)</td>\n",
       "      <td>Kauppakeskus Itis, 1-7, Itäkatu, Itäkeskus, Va...</td>\n",
       "      <td>1</td>\n",
       "      <td>Itis</td>\n",
       "      <td>Itäkatu 1-7, 00930 Helsinki</td>\n",
       "    </tr>\n",
       "    <tr>\n",
       "      <th>1</th>\n",
       "      <td>POINT (24.936116 60.171405)</td>\n",
       "      <td>Mannerheimintie, Keskusta, Kluuvi, Eteläinen s...</td>\n",
       "      <td>2</td>\n",
       "      <td>Forum</td>\n",
       "      <td>Mannerheimintie 14–20, 00100 Helsinki</td>\n",
       "    </tr>\n",
       "    <tr>\n",
       "      <th>2</th>\n",
       "      <td>POINT (24.73833665221 60.1612882)</td>\n",
       "      <td>Iso Omena, 11, Piispansilta, Espoo, Helsingin ...</td>\n",
       "      <td>3</td>\n",
       "      <td>Iso-omena</td>\n",
       "      <td>Piispansilta 11, 02230 Espoo</td>\n",
       "    </tr>\n",
       "    <tr>\n",
       "      <th>3</th>\n",
       "      <td>POINT (24.8099222238214 60.21867775)</td>\n",
       "      <td>3-9, Leppävaarankatu, Etelä-Leppävaara, Leppäv...</td>\n",
       "      <td>4</td>\n",
       "      <td>Sello</td>\n",
       "      <td>Leppävaarankatu 3-9, 02600 Espoo</td>\n",
       "    </tr>\n",
       "    <tr>\n",
       "      <th>4</th>\n",
       "      <td>POINT (25.0364526 60.3091871)</td>\n",
       "      <td>Vantaa, Helsingin seutukunta, Uusimaa, Etelä-S...</td>\n",
       "      <td>5</td>\n",
       "      <td>Jumbo</td>\n",
       "      <td>01510 Vantaa</td>\n",
       "    </tr>\n",
       "  </tbody>\n",
       "</table>\n",
       "</div>"
      ],
      "text/plain": [
       "                               geometry  \\\n",
       "0  POINT (25.0829394427168 60.21170635)   \n",
       "1           POINT (24.936116 60.171405)   \n",
       "2     POINT (24.73833665221 60.1612882)   \n",
       "3  POINT (24.8099222238214 60.21867775)   \n",
       "4         POINT (25.0364526 60.3091871)   \n",
       "\n",
       "                                             address  id       name  \\\n",
       "0  Kauppakeskus Itis, 1-7, Itäkatu, Itäkeskus, Va...   1       Itis   \n",
       "1  Mannerheimintie, Keskusta, Kluuvi, Eteläinen s...   2      Forum   \n",
       "2  Iso Omena, 11, Piispansilta, Espoo, Helsingin ...   3  Iso-omena   \n",
       "3  3-9, Leppävaarankatu, Etelä-Leppävaara, Leppäv...   4      Sello   \n",
       "4  Vantaa, Helsingin seutukunta, Uusimaa, Etelä-S...   5      Jumbo   \n",
       "\n",
       "                                    addr  \n",
       "0            Itäkatu 1-7, 00930 Helsinki  \n",
       "1  Mannerheimintie 14–20, 00100 Helsinki  \n",
       "2           Piispansilta 11, 02230 Espoo  \n",
       "3       Leppävaarankatu 3-9, 02600 Espoo  \n",
       "4                           01510 Vantaa  "
      ]
     },
     "execution_count": 69,
     "metadata": {},
     "output_type": "execute_result"
    }
   ],
   "source": [
    "# join the shop_geo and shop_data\n",
    "shop_geo_data = shop_geo.join(shop_data)\n",
    "shop_geo_data.head()"
   ]
  },
  {
   "cell_type": "code",
   "execution_count": 70,
   "metadata": {},
   "outputs": [],
   "source": [
    "from shapely.geometry import Point, MultiPoint\n",
    "from shapely.ops import nearest_points\n",
    "# find the nearest point\n",
    "destinations = MultiPoint(shop_geo_data[\"geometry\"])\n",
    "\n",
    "# find the nearest for wach point\n",
    "nearest_orig1 = nearest_points(geo.loc[0,\"geometry\"], destinations)\n",
    "nearest_orig2 = nearest_points(geo.loc[1,\"geometry\"], destinations)"
   ]
  },
  {
   "cell_type": "code",
   "execution_count": 71,
   "metadata": {},
   "outputs": [],
   "source": [
    "shopname1 = shop_geo_data[ shop_geo_data[\"geometry\"]==nearest_orig1[1]]\n",
    "shopname2 = shop_geo_data[ shop_geo_data[\"geometry\"]==nearest_orig2[1]]"
   ]
  },
  {
   "cell_type": "code",
   "execution_count": 73,
   "metadata": {},
   "outputs": [
    {
     "name": "stdout",
     "output_type": "stream",
     "text": [
      "5    REDI\n",
      "Name: name, dtype: object\n",
      "4    Jumbo\n",
      "Name: name, dtype: object\n"
     ]
    }
   ],
   "source": [
    "print(shopname1[\"name\"])\n",
    "print(shopname2[\"name\"])"
   ]
  },
  {
   "cell_type": "code",
   "execution_count": 75,
   "metadata": {},
   "outputs": [
    {
     "name": "stdout",
     "output_type": "stream",
     "text": [
      "The nearest shopping center to my workplace and home is REDI and Jumbo,respectively.\n"
     ]
    }
   ],
   "source": [
    "print(\"The nearest shopping center to my workplace and home is {0} and {1},respectively.\"\n",
    "      .format(shopname1.loc[5,\"name\"], shopname2.loc[4,\"name\"]))"
   ]
  },
  {
   "cell_type": "markdown",
   "metadata": {
    "deletable": true,
    "editable": true
   },
   "source": [
    "Can you think of other application cases for the nearest neighbour analysis?\n",
    "\n",
    "Yes. To find the nearest bank, school, and hostiptal near home."
   ]
  },
  {
   "cell_type": "markdown",
   "metadata": {
    "deletable": false,
    "editable": true,
    "nbgrader": {
     "checksum": "9097d06476510270641179f9a799bad7",
     "grade": true,
     "grade_id": "problem_4_check",
     "locked": false,
     "points": 5,
     "schema_version": 1,
     "solution": true
    }
   },
   "source": [
    "### problem\n",
    "when i used the following address to do the geocode, there is a mistake \"'NoneType' object is not iterable \"\n",
    "\n",
    "1;Raidepolku 4 Puistolan Juna-asema raide 3-4, 00760 Helsinki"
   ]
  }
 ],
 "metadata": {
  "anaconda-cloud": {},
  "kernelspec": {
   "display_name": "Python 3",
   "language": "python",
   "name": "python3"
  },
  "language_info": {
   "codemirror_mode": {
    "name": "ipython",
    "version": 3
   },
   "file_extension": ".py",
   "mimetype": "text/x-python",
   "name": "python",
   "nbconvert_exporter": "python",
   "pygments_lexer": "ipython3",
   "version": "3.6.5"
  }
 },
 "nbformat": 4,
 "nbformat_minor": 2
}
