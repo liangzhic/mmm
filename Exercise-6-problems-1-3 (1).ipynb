{
 "cells": [
  {
   "cell_type": "markdown",
   "metadata": {
    "deletable": false,
    "editable": false,
    "nbgrader": {
     "checksum": "988968139805d3c412f73d416a9659e5",
     "grade": false,
     "grade_id": "cell-c3cd82caefa995f8",
     "locked": true,
     "schema_version": 1,
     "solution": false
    }
   },
   "source": [
    "# Exercise 6 - Data analysis with Pandas\n",
    "\n",
    "In this week's exercise we will continue developing our skills using Pandas to analyze climate data.\n",
    "\n",
    "After making your changes, you will need to upload your changes to GitHub.\n",
    "The answers to the questions in this week's exercise should be given by modifying the document in the requested places.\n",
    "\n",
    "If you are uncertain about **the style of your code**, take a look at the **[PEP 8 - Style guide for Python code](https://www.python.org/dev/peps/pep-0008/)**.  \n",
    "\n",
    " - **Exercise 6 is due by 16:00 on 17.10.**\n",
    " - Don't forget to check out the [hints for this week's exercise](https://geo-python.github.io/2018/lessons/L6/exercise-6.html) if you're having trouble.\n",
    " - Scores on this exercise are out of 20 points.\n",
    " - There are altogether 3 problems that you should solve. The fourth problem is optional (Problem 4) for more advanced students (does not affect grading)\n",
    "\n",
    "## Data\n",
    "\n",
    "For problems 1-3 in this exercise we will be using climate data from the Helsinki-Vantaa airport station.\n",
    "For these problems, we have daily observations obtained from the [NOAA Global Historical Climatology Network](https://www.ncdc.noaa.gov/cdo-web/search?datasetid=GHCND).\n",
    "The file was downloaded using the \"Custom GHCN-Daily Text\" output format, including following attributes:\n",
    "\n",
    "| Attribute                | Description                      |\n",
    "|--------------------------|----------------------------------|\n",
    "| `STATION`                | Unique ID of the weather station |\n",
    "| `ELEVATION`              | Elevation of the station         |\n",
    "| `LATITUDE` , `LONGITUDE` | Coordinates of the station       |\n",
    "| `DATE`                   | Date of the measurement          |\n",
    "| `PRCP`                   | Precipitation                    |\n",
    "| `TAVG`                   | Average temperature              |\n",
    "| `TMAX`                   | Maximum temperature              |\n",
    "| `TMIN`                   | Minimum temperature              |\n",
    "\n",
    "The file for this problem is exactly as available from the NOAA website. You can take a [look of the data](data/1091402.txt).\n",
    "\n",
    "**Note**: once again that temperatures in this dataset are given in degrees Fahrenheit.\n",
    "\n",
    "Additional information about the data format can be found in the [hints for Exercise 6](https://geo-python.github.io/2018/lessons/L6/exercise-6-hints.html).\n"
   ]
  },
  {
   "cell_type": "markdown",
   "metadata": {
    "deletable": false,
    "editable": false,
    "nbgrader": {
     "checksum": "55ae37c25468d39910ea1cc948066db6",
     "grade": false,
     "grade_id": "cell-f2d00c67ecd9e7dc",
     "locked": true,
     "schema_version": 1,
     "solution": false
    }
   },
   "source": [
    "# Problem 1 - Reading in a tricky data file (5 points)\n",
    "\n",
    "#### Overview\n",
    "\n",
    "You first task for this exercise is to read in the data file (`data/1091402.txt`) to a variable called **`data`**.\n",
    "This should be done using the `read_csv()` -function in Pandas, and the resulting DataFrame should have the following attributes:\n",
    "\n",
    "  - The numerical values for rainfall and temperature read in as numbers\n",
    "  - The second row of the datafile should be skipped, but the text labels for the columns should be from the first row\n",
    "  - The no-data values (assigned with value **`-9999`**) should properly be converted to `NaN`\n",
    "  \n",
    "After successfully reading the data file, you should find answers programmably to specific questions below, and upload your notebook to **your own repository** for this week's exercise.\n",
    "\n",
    "You can find hints about how to do these things in the [description of Exercise 5 Problem 1](https://github.com/Geo-Python-2018/Exercise-5/blob/master/Pandas/Exercise-5-problem1.ipynb) and the [hints for Exercise 6](https://geo-python.github.io/2018/lessons/L6/exercise-6.html).\n"
   ]
  },
  {
   "cell_type": "markdown",
   "metadata": {
    "deletable": false,
    "editable": false,
    "nbgrader": {
     "checksum": "ead53e63ab82ebf9ddeff41fadeb90f8",
     "grade": false,
     "grade_id": "cell-52cc9f4650eada57",
     "locked": true,
     "schema_version": 1,
     "solution": false
    }
   },
   "source": [
    "1. Read the file into variable **data**\n",
    "   - Skip the second row\n",
    "   - Convert the no-data values into `NaN` (values -9999)"
   ]
  },
  {
   "cell_type": "code",
   "execution_count": 1,
   "metadata": {
    "collapsed": false,
    "deletable": false,
    "nbgrader": {
     "checksum": "1b1c13860a674aeb3aa2a5b0ac028550",
     "grade": false,
     "grade_id": "read_file",
     "locked": false,
     "schema_version": 1,
     "solution": true
    }
   },
   "outputs": [],
   "source": [
    "import pandas as pd\n",
    "import numpy as np\n",
    "fp = r\"data/1091402.txt\"\n",
    "# Read data using varying amount of spaces as separator and specifying NaN characters as NoData values\n",
    "data = pd.read_csv(fp, sep='\\s+',skiprows=[1])\n",
    "data = data.replace(-9999, np.nan)  # replace the '-9999' to NaN"
   ]
  },
  {
   "cell_type": "code",
   "execution_count": 40,
   "metadata": {
    "collapsed": false,
    "deletable": false,
    "editable": false,
    "nbgrader": {
     "checksum": "6476b610931387386d6d059724c8bfee",
     "grade": true,
     "grade_id": "read_file_tests",
     "locked": true,
     "points": 1.5,
     "schema_version": 1,
     "solution": false
    }
   },
   "outputs": [
    {
     "name": "stdout",
     "output_type": "stream",
     "text": [
      "             STATION  ELEVATION  LATITUDE  LONGITUDE      DATE  PRCP  TAVG  \\\n",
      "0  GHCND:FIE00142080         51   60.3269    24.9603  19520101  0.31  37.0   \n",
      "1  GHCND:FIE00142080         51   60.3269    24.9603  19520102   NaN  35.0   \n",
      "2  GHCND:FIE00142080         51   60.3269    24.9603  19520103  0.14  33.0   \n",
      "3  GHCND:FIE00142080         51   60.3269    24.9603  19520104  0.05  29.0   \n",
      "4  GHCND:FIE00142080         51   60.3269    24.9603  19520105  0.06  27.0   \n",
      "\n",
      "   TMAX  TMIN  \n",
      "0  39.0  34.0  \n",
      "1  37.0  34.0  \n",
      "2  36.0   NaN  \n",
      "3  30.0  25.0  \n",
      "4  30.0  25.0  \n"
     ]
    }
   ],
   "source": [
    "# Test print that should work\n",
    "print(data.head(5))\n"
   ]
  },
  {
   "cell_type": "markdown",
   "metadata": {
    "deletable": false,
    "editable": false,
    "nbgrader": {
     "checksum": "a9727efb2028046144c74fea68fee636",
     "grade": false,
     "grade_id": "cell-7f848d5f8acf3a0f",
     "locked": true,
     "schema_version": 1,
     "solution": false
    }
   },
   "source": [
    "- How many no-data values (NaN) are there for **`TAVG`**?\n",
    "  - Assign your answer into a variable called **`tavg_nodata_count`**\n"
   ]
  },
  {
   "cell_type": "code",
   "execution_count": 44,
   "metadata": {
    "collapsed": true,
    "deletable": false,
    "nbgrader": {
     "checksum": "91b99d39318d4cbe0842cededa86c3cf",
     "grade": false,
     "grade_id": "tavg_nodata_count",
     "locked": false,
     "schema_version": 1,
     "solution": true
    }
   },
   "outputs": [],
   "source": [
    "# How many no-data values?\n",
    "tavg_nodata_count = data['TAVG'].isnull().sum()"
   ]
  },
  {
   "cell_type": "code",
   "execution_count": 45,
   "metadata": {
    "collapsed": false,
    "deletable": false,
    "editable": false,
    "nbgrader": {
     "checksum": "ac6b57aedfc4ae8c219f2aed56e5f2d8",
     "grade": true,
     "grade_id": "tavg_nodata_count_tests",
     "locked": true,
     "points": 0.5,
     "schema_version": 1,
     "solution": false
    }
   },
   "outputs": [
    {
     "name": "stdout",
     "output_type": "stream",
     "text": [
      "3308\n"
     ]
    }
   ],
   "source": [
    "# This test print should print a number\n",
    "print(tavg_nodata_count)\n"
   ]
  },
  {
   "cell_type": "markdown",
   "metadata": {
    "deletable": false,
    "editable": false,
    "nbgrader": {
     "checksum": "6c1c2341f6ccddb5a180a4a179ac6c8e",
     "grade": false,
     "grade_id": "cell-600c96096b421522",
     "locked": true,
     "schema_version": 1,
     "solution": false
    }
   },
   "source": [
    "- How many no-data values (NaN) are there for `TMIN`?\n",
    "  - Assign your answer into a variable called **`tmin_nodata_count`**\n"
   ]
  },
  {
   "cell_type": "code",
   "execution_count": 50,
   "metadata": {
    "collapsed": true,
    "deletable": false,
    "nbgrader": {
     "checksum": "8e0d1edc16aedb93d9e4abb3094969d7",
     "grade": false,
     "grade_id": "tmin_nodata_count",
     "locked": false,
     "schema_version": 1,
     "solution": true
    }
   },
   "outputs": [],
   "source": [
    "# How many no-data values?\n",
    "tmin_nodata_count = data['TMIN'].isnull().sum()"
   ]
  },
  {
   "cell_type": "code",
   "execution_count": 51,
   "metadata": {
    "collapsed": false,
    "deletable": false,
    "editable": false,
    "nbgrader": {
     "checksum": "24e53727c0ef698df8bf044eceafd0f8",
     "grade": true,
     "grade_id": "tmin_nodata_count_tests",
     "locked": true,
     "points": 0.5,
     "schema_version": 1,
     "solution": false
    }
   },
   "outputs": [
    {
     "name": "stdout",
     "output_type": "stream",
     "text": [
      "0\n"
     ]
    }
   ],
   "source": [
    "# This test print should print a number\n",
    "print(tmin_nodata_count)\n"
   ]
  },
  {
   "cell_type": "markdown",
   "metadata": {
    "deletable": false,
    "editable": false,
    "nbgrader": {
     "checksum": "4062abbcb7b6a3a01baae89e2aa08f10",
     "grade": false,
     "grade_id": "cell-25998b4f0d14e8f0",
     "locked": true,
     "schema_version": 1,
     "solution": false
    }
   },
   "source": [
    "- How many days total are covered by this data file?\n",
    "  - Assign your answer into a variable called **`day_count`**\n"
   ]
  },
  {
   "cell_type": "code",
   "execution_count": 52,
   "metadata": {
    "collapsed": false,
    "deletable": false,
    "nbgrader": {
     "checksum": "d9fc6f8212ffb11db2f99cf5581eb46b",
     "grade": false,
     "grade_id": "day_count",
     "locked": false,
     "schema_version": 1,
     "solution": true
    }
   },
   "outputs": [],
   "source": [
    "# How many days?\n",
    "day_count = data['DATE'].nunique() # to find the unuique values in \"DATE\""
   ]
  },
  {
   "cell_type": "code",
   "execution_count": 53,
   "metadata": {
    "collapsed": false,
    "deletable": false,
    "editable": false,
    "nbgrader": {
     "checksum": "acd72741f24e13874f75afe110c025ff",
     "grade": true,
     "grade_id": "day_count_tests",
     "locked": true,
     "points": 0.5,
     "schema_version": 1,
     "solution": false
    }
   },
   "outputs": [
    {
     "name": "stdout",
     "output_type": "stream",
     "text": [
      "23716\n"
     ]
    }
   ],
   "source": [
    "# This test print should print a number\n",
    "print(day_count)\n"
   ]
  },
  {
   "cell_type": "markdown",
   "metadata": {
    "deletable": false,
    "editable": false,
    "nbgrader": {
     "checksum": "686f79babf0eb698a217f70135dbd0e9",
     "grade": false,
     "grade_id": "cell-424dcdef3dde1b89",
     "locked": true,
     "schema_version": 1,
     "solution": false
    }
   },
   "source": [
    "- When was the first observation made (i.e. the oldest)?\n",
    "  - Assign your answer into a variable called **`first_obs`**\n"
   ]
  },
  {
   "cell_type": "code",
   "execution_count": 55,
   "metadata": {
    "collapsed": false,
    "deletable": false,
    "nbgrader": {
     "checksum": "644b73bbd7ebdcf0ce74b47da2f1af1a",
     "grade": false,
     "grade_id": "first_observation",
     "locked": false,
     "schema_version": 1,
     "solution": true
    }
   },
   "outputs": [],
   "source": [
    "# YOUR CODE HERE\n",
    "first_obs = data['DATE'].min() # to find the minimum value in \"DATE\""
   ]
  },
  {
   "cell_type": "code",
   "execution_count": 56,
   "metadata": {
    "collapsed": false,
    "deletable": false,
    "editable": false,
    "nbgrader": {
     "checksum": "fe830dda7b34b82cfa75a1a505f9be03",
     "grade": true,
     "grade_id": "first_observation_tests",
     "locked": true,
     "points": 0.5,
     "schema_version": 1,
     "solution": false
    }
   },
   "outputs": [
    {
     "name": "stdout",
     "output_type": "stream",
     "text": [
      "19520101\n"
     ]
    }
   ],
   "source": [
    "# This test print should print a number\n",
    "print(first_obs)\n"
   ]
  },
  {
   "cell_type": "markdown",
   "metadata": {
    "deletable": false,
    "editable": false,
    "nbgrader": {
     "checksum": "be4eb61b5283cd2e644a8a0ecb9a7e5d",
     "grade": false,
     "grade_id": "cell-1a9a82e0f837ac34",
     "locked": true,
     "schema_version": 1,
     "solution": false
    }
   },
   "source": [
    "- When was the last observation made (i.e. the most recent)?\n",
    "  - Assign your answer into a variable called **`last_obs`**"
   ]
  },
  {
   "cell_type": "code",
   "execution_count": 57,
   "metadata": {
    "collapsed": true,
    "deletable": false,
    "nbgrader": {
     "checksum": "50f101af15641ea140c067553635de2a",
     "grade": false,
     "grade_id": "last_observation",
     "locked": false,
     "schema_version": 1,
     "solution": true
    }
   },
   "outputs": [],
   "source": [
    "# YOUR CODE HERE\n",
    "last_obs = data['DATE'].max() # to find the maximum value in \"DATE\""
   ]
  },
  {
   "cell_type": "code",
   "execution_count": 58,
   "metadata": {
    "collapsed": false,
    "deletable": false,
    "editable": false,
    "nbgrader": {
     "checksum": "be2eed6a43769ed677438b643b35f223",
     "grade": true,
     "grade_id": "last_observation_tests",
     "locked": true,
     "points": 0.5,
     "schema_version": 1,
     "solution": false
    }
   },
   "outputs": [
    {
     "name": "stdout",
     "output_type": "stream",
     "text": [
      "20171004\n"
     ]
    }
   ],
   "source": [
    "# This test print should print a number\n",
    "print(last_obs)\n"
   ]
  },
  {
   "cell_type": "markdown",
   "metadata": {
    "deletable": false,
    "editable": false,
    "nbgrader": {
     "checksum": "582d67c138d7affcbc1d567174775d5c",
     "grade": false,
     "grade_id": "cell-3fbd149c1e58a16c",
     "locked": true,
     "schema_version": 1,
     "solution": false
    }
   },
   "source": [
    "- What was the average temperature of the whole data file (all years)?\n",
    "  - Assign your answer into a variable called **`avg_temp`**"
   ]
  },
  {
   "cell_type": "code",
   "execution_count": 59,
   "metadata": {
    "collapsed": true,
    "deletable": false,
    "nbgrader": {
     "checksum": "817e554980d384801ca9c57474f435c5",
     "grade": false,
     "grade_id": "avg_temp",
     "locked": false,
     "schema_version": 1,
     "solution": true
    }
   },
   "outputs": [],
   "source": [
    "# to find the average temperature in \"TAVG\"\n",
    "avg_temp = data['TAVG'].mean()"
   ]
  },
  {
   "cell_type": "code",
   "execution_count": 60,
   "metadata": {
    "collapsed": false,
    "deletable": false,
    "editable": false,
    "nbgrader": {
     "checksum": "5e5239a3e35fc0f0e01a5d96c40fb77b",
     "grade": true,
     "grade_id": "avg_temp_test",
     "locked": true,
     "points": 0.5,
     "schema_version": 1,
     "solution": false
    }
   },
   "outputs": [
    {
     "name": "stdout",
     "output_type": "stream",
     "text": [
      "41.32408859270874\n"
     ]
    }
   ],
   "source": [
    "# This test print should print a number\n",
    "print(avg_temp)\n"
   ]
  },
  {
   "cell_type": "markdown",
   "metadata": {
    "deletable": false,
    "editable": false,
    "nbgrader": {
     "checksum": "f4ba778c35a7aeba9d31f5d3a519af5c",
     "grade": false,
     "grade_id": "cell-784617d6edc656a6",
     "locked": true,
     "schema_version": 1,
     "solution": false
    }
   },
   "source": [
    "- What was the **`TMAX`** temperature of the ``Summer 69`` (i.e. including months May, June, July, August of the year 1969)?\n",
    "  - Assign your answer into a variable called **`avg_temp_69`**"
   ]
  },
  {
   "cell_type": "code",
   "execution_count": null,
   "metadata": {
    "collapsed": true,
    "deletable": false,
    "nbgrader": {
     "checksum": "5a6ab76f5242afe2e6244e446aacfccc",
     "grade": false,
     "grade_id": "avg_temp_69",
     "locked": false,
     "schema_version": 1,
     "solution": true
    }
   },
   "outputs": [],
   "source": []
  },
  {
   "cell_type": "code",
   "execution_count": 97,
   "metadata": {},
   "outputs": [],
   "source": [
    "# first to find the range of May and August in 1969\n",
    "data_may_to_aug = data.loc[ (data['DATE']>=19690501) & (data['DATE']<=19690831) ]\n",
    "# find the \"TMAX\"\n",
    "avg_temp_69 = data_may_to_aug['TMAX']"
   ]
  },
  {
   "cell_type": "code",
   "execution_count": 98,
   "metadata": {
    "collapsed": false,
    "deletable": false,
    "editable": false,
    "nbgrader": {
     "checksum": "ad202a4bc6064555ad6d604359595c95",
     "grade": true,
     "grade_id": "avg_temp_69_tests",
     "locked": true,
     "points": 0.5,
     "schema_version": 1,
     "solution": false
    }
   },
   "outputs": [
    {
     "name": "stdout",
     "output_type": "stream",
     "text": [
      "6054    41.0\n",
      "6055    48.0\n",
      "6056    44.0\n",
      "6057    48.0\n",
      "6058    55.0\n",
      "6059    58.0\n",
      "6060    61.0\n",
      "6061    58.0\n",
      "6062    70.0\n",
      "6063    65.0\n",
      "6064    59.0\n",
      "6065    61.0\n",
      "6066    59.0\n",
      "6067    56.0\n",
      "6068    49.0\n",
      "6069    54.0\n",
      "6070    58.0\n",
      "6071    53.0\n",
      "6072    55.0\n",
      "6073    54.0\n",
      "6074    46.0\n",
      "6075    58.0\n",
      "6076    56.0\n",
      "6077    53.0\n",
      "6078    62.0\n",
      "6079    67.0\n",
      "6080    67.0\n",
      "6081    64.0\n",
      "6082    72.0\n",
      "6083    61.0\n",
      "        ... \n",
      "6147    75.0\n",
      "6148    72.0\n",
      "6149    74.0\n",
      "6150    81.0\n",
      "6151    82.0\n",
      "6152    75.0\n",
      "6153    67.0\n",
      "6154    70.0\n",
      "6155    76.0\n",
      "6156    81.0\n",
      "6157    80.0\n",
      "6158    82.0\n",
      "6159    77.0\n",
      "6160    65.0\n",
      "6161    66.0\n",
      "6162    69.0\n",
      "6163    73.0\n",
      "6164    75.0\n",
      "6165    73.0\n",
      "6166    73.0\n",
      "6167    66.0\n",
      "6168    73.0\n",
      "6169    68.0\n",
      "6170    67.0\n",
      "6171    61.0\n",
      "6172    64.0\n",
      "6173    66.0\n",
      "6174    68.0\n",
      "6175    64.0\n",
      "6176    66.0\n",
      "Name: TMAX, Length: 123, dtype: float64\n"
     ]
    }
   ],
   "source": [
    "# This test print should print a number\n",
    "print(avg_temp_69)\n"
   ]
  },
  {
   "cell_type": "markdown",
   "metadata": {
    "deletable": false,
    "editable": false,
    "nbgrader": {
     "checksum": "c5f14a019d63302411b172cd778b1539",
     "grade": false,
     "grade_id": "cell-beeb38c1b8d3eb13",
     "locked": true,
     "schema_version": 1,
     "solution": false
    }
   },
   "source": [
    "# Problem 2 - Calculating monthly average temperatures (7.5 points)\n",
    "\n",
    "For this problem your goal is to calculate monthly average temperature values in degrees Celsius from the daily values we have in the data file. You can use the approaches taught in Lessons 4,5 and 6 to solve this.\n",
    "You can again consult the [hints for Exercise 6](https://geo-python.github.io/2018/lessons/L6/exercise-6-hints.html) if you are stuck.\n",
    "\n",
    "**You can continue working with the same data that you used in Problem 1.**\n",
    "\n",
    "#### For this problem you should modify:\n",
    "\n",
    "1. Calculate the monthly average temperatures for the entire data (i.e. for each year separately) file using the approach taught in the lecture.\n",
    "    - You should store the average temperatures into a new Pandas DataFrame called **`monthly_data`**.\n",
    "2. Create a new column called **`temp_celsius`** into the **`monthly_data`** DataFrame that has the monthly temperatures in Celsius.   \n",
    "   - Store also the information about the date into column **`DATE_m`** (which should be a string column with month and year info) and the **`TAVG`** values into the `monthly_data` DataFrame.\n",
    "3. Update and commit your changes to the notebook in your **own repository** of this week's exercise."
   ]
  },
  {
   "cell_type": "code",
   "execution_count": 5,
   "metadata": {
    "collapsed": true,
    "deletable": false,
    "nbgrader": {
     "checksum": "624926dd8c80aeb9e54758f935a56203",
     "grade": false,
     "grade_id": "monthly_averages",
     "locked": false,
     "schema_version": 1,
     "solution": true
    }
   },
   "outputs": [],
   "source": [
    "# Convert to string\n",
    "data['DATE_str'] = data['DATE'].astype(str)\n",
    "# SLice the string\n",
    "data['DATE_str'] = data['DATE_str'].str.slice(start=0, stop=6)\n",
    "# Convert to int\n",
    "data['DATE_str'] = data['DATE_str'].astype(int)\n",
    "# Group the data\n",
    "grouped = data.groupby('DATE_str')\n",
    "\n",
    "# create a new Pandas DataFrame\n",
    "monthly_data = pd.DataFrame()"
   ]
  },
  {
   "cell_type": "code",
   "execution_count": 41,
   "metadata": {},
   "outputs": [],
   "source": [
    "monthly_data = pd.DataFrame()\n",
    "\n",
    "# Iterate over the groups\n",
    "for key, group in grouped:\n",
    "    # Aggregate the data\n",
    "    mean_values = group[['TAVG']].mean()\n",
    "\n",
    "    # Add the ´key´ (i.e. the year+month information) into the aggregated values\n",
    "    mean_values['DATE_m'] = key\n",
    "    #mean_values['DATE_m'] = mean_values['DATE_m'].astype(int)\n",
    "\n",
    "    # Append the aggregated values into the DataFrame\n",
    "    monthly_data = monthly_data.append(mean_values, ignore_index=True)\n",
    "monthly_data['DATE_m'] = monthly_data['DATE_m'].astype(int) ## Convert to string\n",
    "monthly_data['DATE_m'] = monthly_data['DATE_m'].astype(str)   "
   ]
  },
  {
   "cell_type": "code",
   "execution_count": 70,
   "metadata": {
    "collapsed": false,
    "deletable": false,
    "editable": false,
    "nbgrader": {
     "checksum": "73e9e1c90aa1b842dcc2b915b7aa3710",
     "grade": true,
     "grade_id": "monthly_averages_tests",
     "locked": true,
     "points": 7.5,
     "schema_version": 1,
     "solution": false
    }
   },
   "outputs": [],
   "source": [
    "monthly_data['temp_celsius'] = (monthly_data['TAVG']-32)/1.8"
   ]
  },
  {
   "cell_type": "code",
   "execution_count": 71,
   "metadata": {},
   "outputs": [
    {
     "name": "stdout",
     "output_type": "stream",
     "text": [
      "     DATE_m       TAVG  temp_celsius\n",
      "0    195201  29.478261     -1.400966\n",
      "1    195202  24.800000     -4.000000\n",
      "2    195203  13.807692    -10.106838\n",
      "3    195204  39.607143      4.226190\n",
      "4    195205  44.666667      7.037037\n",
      "5    195206  56.500000     13.611111\n",
      "6    195207  61.214286     16.230159\n",
      "7    195208  57.483871     14.157706\n",
      "8    195209  47.230769      8.461538\n",
      "9    195210  35.892857      2.162698\n",
      "10   195211  27.714286     -2.380952\n",
      "11   195212  26.760000     -2.911111\n",
      "12   195301  22.285714     -5.396825\n",
      "13   195302  16.407407     -8.662551\n",
      "14   195303  31.130435     -0.483092\n",
      "15   195304  39.962963      4.423868\n",
      "16   195305  48.677419      9.265233\n",
      "17   195306  62.666667     17.037037\n",
      "18   195307  62.720000     17.066667\n",
      "19   195308  59.206897     15.114943\n",
      "20   195309  49.370370      9.650206\n",
      "21   195310  45.000000      7.222222\n",
      "22   195311  34.535714      1.408730\n",
      "23   195312  29.677419     -1.290323\n",
      "24   195401  19.269231     -7.072650\n",
      "25   195402  11.250000    -11.527778\n",
      "26   195403  29.714286     -1.269841\n",
      "27   195404  34.541667      1.412037\n",
      "28   195405  52.620690     11.455939\n",
      "29   195406  57.038462     13.910256\n",
      "..      ...        ...           ...\n",
      "760  201505  49.258065      9.587814\n",
      "761  201506  56.366667     13.537037\n",
      "762  201507  60.935484     16.075269\n",
      "763  201508  62.064516     16.702509\n",
      "764  201509  54.566667     12.537037\n",
      "765  201510  41.322581      5.179211\n",
      "766  201511  40.266667      4.592593\n",
      "767  201512  35.967742      2.204301\n",
      "768  201601  13.580645    -10.232975\n",
      "769  201602  31.206897     -0.440613\n",
      "770  201603  32.129032      0.071685\n",
      "771  201604  40.366667      4.648148\n",
      "772  201605  56.935484     13.853047\n",
      "773  201606  59.666667     15.370370\n",
      "774  201607  63.354839     17.419355\n",
      "775  201608  60.612903     15.896057\n",
      "776  201609  54.400000     12.444444\n",
      "777  201610  40.096774      4.498208\n",
      "778  201611  31.034483     -0.536398\n",
      "779  201612  30.580645     -0.788530\n",
      "780  201701  26.800000     -2.888889\n",
      "781  201702  26.250000     -3.194444\n",
      "782  201703  33.258065      0.698925\n",
      "783  201704  36.033333      2.240741\n",
      "784  201705  49.032258      9.462366\n",
      "785  201706  56.300000     13.500000\n",
      "786  201707  60.290323     15.716846\n",
      "787  201708  60.290323     15.716846\n",
      "788  201709  52.333333     11.296296\n",
      "789  201710  48.250000      9.027778\n",
      "\n",
      "[790 rows x 3 columns]\n"
     ]
    }
   ],
   "source": [
    "print(monthly_data)"
   ]
  },
  {
   "cell_type": "markdown",
   "metadata": {
    "deletable": false,
    "editable": false,
    "nbgrader": {
     "checksum": "9de1ed207173b8a65cc217ff753a77c5",
     "grade": false,
     "grade_id": "cell-ccd31e45c30df3ec",
     "locked": true,
     "schema_version": 1,
     "solution": false
    }
   },
   "source": [
    "# Problem 3 - Calculating temperature anomalies (7.5 points)\n",
    "\n",
    "Our goal in this problem is to calculate monthly temperature anomalies in order to see how temperatures have changed over time, relative to the observation period between 1952-1980.\n",
    "\n",
    "We will again continue working with this same notebook.\n",
    "\n",
    "In order to complete the problem, you must do following things:\n",
    "\n",
    "- You need to calculate a mean temperature ***for each month*** over the period 1952-1980 using the data in the data file.\n",
    " As a result, you should end up with 12 values, 1 mean temperature for each month in that period, and store them in a new Pandas DataFrame called **`reference_temps`**.  \n",
    "   - The columns in the new DataFrame should be titled `Month` and `ref_temp`. \n",
    "   \n",
    "For example, your `reference_temps` data should be something like that below, 1 value for each month of the year (12 total):\n",
    "   \n",
    "| Month    | ref_temp         |\n",
    "|----------|------------------|\n",
    "| 01       | -5.350916        |\n",
    "| 02       | -5.941307        |\n",
    "| 03       | -2.440364        |\n",
    "| ...      | ...              |\n",
    "   \n",
    "*Remember, these temperatures should be in degrees Celsius.*\n",
    "\n",
    "- Once you have the monthly mean values for each of the 12 months, you can then calculate a temperature anomaly for every month in the `monthly_data` DataFrame.\n",
    "- The temperature anomaly we want to calculate is simply the temperature for one month in `monthly_data` (`temp_celsius` -column) minus the corresponding monthly reference temperature in `ref_temp` column of `reference_temps` DataFrame. \n",
    "    - Hint: You need to make a table join (see hints for this week)\n",
    "- You should thus end up with three new columns in the `monthly_data` DataFrame: \n",
    "\n",
    "    1. **`Diff`**  showing the temperature anomaly, the difference in temperature for a given month (e.g., February 1960) compared to the average (e.g., for February 1952-1980), \n",
    "    2. **`Month`** indicating the month, and \n",
    "    3. **`ref_temp`** indicating the (monthly) reference temperature.\n",
    "- Update and commit your changes to the notebook in your **own repository** of this week's exercise.\n"
   ]
  },
  {
   "cell_type": "code",
   "execution_count": 72,
   "metadata": {},
   "outputs": [],
   "source": [
    "# change the type\n",
    "monthly_data['DATE_m'] = monthly_data['DATE_m'].astype(int)\n",
    "# find the range from 1952-1980\n",
    "monthly_data_cut = monthly_data.loc[ (monthly_data['DATE_m']>=195201) & (monthly_data['DATE_m']<=198012) ]\n"
   ]
  },
  {
   "cell_type": "code",
   "execution_count": 79,
   "metadata": {},
   "outputs": [],
   "source": [
    "# SLice the string\n",
    "# change the type\n",
    "monthly_data_cut['DATE_m'] = monthly_data_cut['DATE_m'].astype(str)\n",
    "monthly_data_cut['Month'] = monthly_data_cut['DATE_m'].str.slice(start=4, stop=6)\n"
   ]
  },
  {
   "cell_type": "code",
   "execution_count": 74,
   "metadata": {},
   "outputs": [
    {
     "data": {
      "text/plain": [
       "DATE_m           object\n",
       "TAVG            float64\n",
       "temp_celsius    float64\n",
       "Month            object\n",
       "dtype: object"
      ]
     },
     "execution_count": 74,
     "metadata": {},
     "output_type": "execute_result"
    }
   ],
   "source": [
    "monthly_data_cut.dtypes"
   ]
  },
  {
   "cell_type": "code",
   "execution_count": 80,
   "metadata": {},
   "outputs": [],
   "source": [
    "# Convert to int\n",
    "monthly_data_cut['Month'] = monthly_data_cut['Month'].astype(int)\n",
    "\n",
    "# Group the data\n",
    "grouped = monthly_data_cut.groupby('Month')"
   ]
  },
  {
   "cell_type": "code",
   "execution_count": 90,
   "metadata": {},
   "outputs": [],
   "source": [
    "# create a new dataframe\n",
    "reference_temps = pd.DataFrame()\n",
    "for key,group in grouped:\n",
    "    \n",
    "    mean_values = group[['temp_celsius']].mean()\n",
    "    mean_values['Month'] = key\n",
    "    reference_temps = reference_temps.append(mean_values, ignore_index=True)\n",
    "# rename the column    \n",
    "reference_temps.rename(columns = {'temp_celsius':'ref_temp'}, inplace = True)"
   ]
  },
  {
   "cell_type": "code",
   "execution_count": 93,
   "metadata": {
    "collapsed": false,
    "deletable": false,
    "nbgrader": {
     "checksum": "69525367033fce390f9150713e4023d2",
     "grade": false,
     "grade_id": "temperature_anomaly",
     "locked": false,
     "schema_version": 1,
     "solution": true
    }
   },
   "outputs": [
    {
     "data": {
      "text/html": [
       "<div>\n",
       "<style>\n",
       "    .dataframe thead tr:only-child th {\n",
       "        text-align: right;\n",
       "    }\n",
       "\n",
       "    .dataframe thead th {\n",
       "        text-align: left;\n",
       "    }\n",
       "\n",
       "    .dataframe tbody tr th {\n",
       "        vertical-align: top;\n",
       "    }\n",
       "</style>\n",
       "<table border=\"1\" class=\"dataframe\">\n",
       "  <thead>\n",
       "    <tr style=\"text-align: right;\">\n",
       "      <th></th>\n",
       "      <th>Month</th>\n",
       "      <th>ref_temp</th>\n",
       "    </tr>\n",
       "  </thead>\n",
       "  <tbody>\n",
       "    <tr>\n",
       "      <th>0</th>\n",
       "      <td>1</td>\n",
       "      <td>-5.838761</td>\n",
       "    </tr>\n",
       "    <tr>\n",
       "      <th>1</th>\n",
       "      <td>2</td>\n",
       "      <td>-7.064088</td>\n",
       "    </tr>\n",
       "    <tr>\n",
       "      <th>2</th>\n",
       "      <td>3</td>\n",
       "      <td>-3.874213</td>\n",
       "    </tr>\n",
       "    <tr>\n",
       "      <th>3</th>\n",
       "      <td>4</td>\n",
       "      <td>2.370749</td>\n",
       "    </tr>\n",
       "    <tr>\n",
       "      <th>4</th>\n",
       "      <td>5</td>\n",
       "      <td>9.482356</td>\n",
       "    </tr>\n",
       "    <tr>\n",
       "      <th>5</th>\n",
       "      <td>6</td>\n",
       "      <td>14.661728</td>\n",
       "    </tr>\n",
       "    <tr>\n",
       "      <th>6</th>\n",
       "      <td>7</td>\n",
       "      <td>16.520986</td>\n",
       "    </tr>\n",
       "    <tr>\n",
       "      <th>7</th>\n",
       "      <td>8</td>\n",
       "      <td>15.045650</td>\n",
       "    </tr>\n",
       "    <tr>\n",
       "      <th>8</th>\n",
       "      <td>9</td>\n",
       "      <td>9.934222</td>\n",
       "    </tr>\n",
       "    <tr>\n",
       "      <th>9</th>\n",
       "      <td>10</td>\n",
       "      <td>4.952240</td>\n",
       "    </tr>\n",
       "    <tr>\n",
       "      <th>10</th>\n",
       "      <td>11</td>\n",
       "      <td>0.245195</td>\n",
       "    </tr>\n",
       "    <tr>\n",
       "      <th>11</th>\n",
       "      <td>12</td>\n",
       "      <td>-4.165641</td>\n",
       "    </tr>\n",
       "  </tbody>\n",
       "</table>\n",
       "</div>"
      ],
      "text/plain": [
       "    Month   ref_temp\n",
       "0       1  -5.838761\n",
       "1       2  -7.064088\n",
       "2       3  -3.874213\n",
       "3       4   2.370749\n",
       "4       5   9.482356\n",
       "5       6  14.661728\n",
       "6       7  16.520986\n",
       "7       8  15.045650\n",
       "8       9   9.934222\n",
       "9      10   4.952240\n",
       "10     11   0.245195\n",
       "11     12  -4.165641"
      ]
     },
     "execution_count": 93,
     "metadata": {},
     "output_type": "execute_result"
    }
   ],
   "source": [
    "#change the type\n",
    "reference_temps['Month'] = reference_temps['Month'].astype(int)\n",
    "reference_temps"
   ]
  },
  {
   "cell_type": "code",
   "execution_count": 106,
   "metadata": {},
   "outputs": [],
   "source": [
    "#change type\n",
    "monthly_data['DATE_m'] = monthly_data['DATE_m'].astype(str)\n",
    "# create a new column named \"Month\" in monthly_data to store the month\n",
    "monthly_data['Month'] = monthly_data['DATE_m'].str.slice(start=4, stop=6)\n",
    "monthly_data['Month'] = monthly_data['Month'].astype(int)"
   ]
  },
  {
   "cell_type": "code",
   "execution_count": 107,
   "metadata": {},
   "outputs": [
    {
     "data": {
      "text/html": [
       "<div>\n",
       "<style>\n",
       "    .dataframe thead tr:only-child th {\n",
       "        text-align: right;\n",
       "    }\n",
       "\n",
       "    .dataframe thead th {\n",
       "        text-align: left;\n",
       "    }\n",
       "\n",
       "    .dataframe tbody tr th {\n",
       "        vertical-align: top;\n",
       "    }\n",
       "</style>\n",
       "<table border=\"1\" class=\"dataframe\">\n",
       "  <thead>\n",
       "    <tr style=\"text-align: right;\">\n",
       "      <th></th>\n",
       "      <th>DATE_m</th>\n",
       "      <th>TAVG</th>\n",
       "      <th>temp_celsius</th>\n",
       "      <th>Month</th>\n",
       "    </tr>\n",
       "  </thead>\n",
       "  <tbody>\n",
       "    <tr>\n",
       "      <th>0</th>\n",
       "      <td>195201</td>\n",
       "      <td>29.478261</td>\n",
       "      <td>-1.400966</td>\n",
       "      <td>1</td>\n",
       "    </tr>\n",
       "    <tr>\n",
       "      <th>1</th>\n",
       "      <td>195202</td>\n",
       "      <td>24.800000</td>\n",
       "      <td>-4.000000</td>\n",
       "      <td>2</td>\n",
       "    </tr>\n",
       "    <tr>\n",
       "      <th>2</th>\n",
       "      <td>195203</td>\n",
       "      <td>13.807692</td>\n",
       "      <td>-10.106838</td>\n",
       "      <td>3</td>\n",
       "    </tr>\n",
       "    <tr>\n",
       "      <th>3</th>\n",
       "      <td>195204</td>\n",
       "      <td>39.607143</td>\n",
       "      <td>4.226190</td>\n",
       "      <td>4</td>\n",
       "    </tr>\n",
       "    <tr>\n",
       "      <th>4</th>\n",
       "      <td>195205</td>\n",
       "      <td>44.666667</td>\n",
       "      <td>7.037037</td>\n",
       "      <td>5</td>\n",
       "    </tr>\n",
       "    <tr>\n",
       "      <th>5</th>\n",
       "      <td>195206</td>\n",
       "      <td>56.500000</td>\n",
       "      <td>13.611111</td>\n",
       "      <td>6</td>\n",
       "    </tr>\n",
       "  </tbody>\n",
       "</table>\n",
       "</div>"
      ],
      "text/plain": [
       "   DATE_m       TAVG  temp_celsius  Month\n",
       "0  195201  29.478261     -1.400966      1\n",
       "1  195202  24.800000     -4.000000      2\n",
       "2  195203  13.807692    -10.106838      3\n",
       "3  195204  39.607143      4.226190      4\n",
       "4  195205  44.666667      7.037037      5\n",
       "5  195206  56.500000     13.611111      6"
      ]
     },
     "execution_count": 107,
     "metadata": {},
     "output_type": "execute_result"
    }
   ],
   "source": [
    "monthly_data.head(6)"
   ]
  },
  {
   "cell_type": "code",
   "execution_count": 110,
   "metadata": {},
   "outputs": [],
   "source": [
    "# merge the monthly_data and the reference_temps\n",
    "join = monthly_data.merge(reference_temps, on='Month', how='outer')  "
   ]
  },
  {
   "cell_type": "code",
   "execution_count": 113,
   "metadata": {},
   "outputs": [],
   "source": [
    "# add the \"Diff\" column\n",
    "join['Diff'] = join['temp_celsius'] - join['ref_temp'] "
   ]
  },
  {
   "cell_type": "code",
   "execution_count": 115,
   "metadata": {
    "collapsed": false,
    "deletable": false,
    "editable": false,
    "nbgrader": {
     "checksum": "2eb441db9b1d7520a8f6a4b309ebf006",
     "grade": true,
     "grade_id": "temperature_anomaly_tests",
     "locked": true,
     "points": 7.5,
     "schema_version": 1,
     "solution": false
    }
   },
   "outputs": [
    {
     "data": {
      "text/html": [
       "<div>\n",
       "<style>\n",
       "    .dataframe thead tr:only-child th {\n",
       "        text-align: right;\n",
       "    }\n",
       "\n",
       "    .dataframe thead th {\n",
       "        text-align: left;\n",
       "    }\n",
       "\n",
       "    .dataframe tbody tr th {\n",
       "        vertical-align: top;\n",
       "    }\n",
       "</style>\n",
       "<table border=\"1\" class=\"dataframe\">\n",
       "  <thead>\n",
       "    <tr style=\"text-align: right;\">\n",
       "      <th></th>\n",
       "      <th>DATE_m</th>\n",
       "      <th>TAVG</th>\n",
       "      <th>temp_celsius</th>\n",
       "      <th>Month</th>\n",
       "      <th>ref_temp</th>\n",
       "      <th>Diff</th>\n",
       "    </tr>\n",
       "  </thead>\n",
       "  <tbody>\n",
       "    <tr>\n",
       "      <th>0</th>\n",
       "      <td>195201</td>\n",
       "      <td>29.478261</td>\n",
       "      <td>-1.400966</td>\n",
       "      <td>1</td>\n",
       "      <td>-5.838761</td>\n",
       "      <td>4.437795</td>\n",
       "    </tr>\n",
       "    <tr>\n",
       "      <th>66</th>\n",
       "      <td>195202</td>\n",
       "      <td>24.800000</td>\n",
       "      <td>-4.000000</td>\n",
       "      <td>2</td>\n",
       "      <td>-7.064088</td>\n",
       "      <td>3.064088</td>\n",
       "    </tr>\n",
       "    <tr>\n",
       "      <th>132</th>\n",
       "      <td>195203</td>\n",
       "      <td>13.807692</td>\n",
       "      <td>-10.106838</td>\n",
       "      <td>3</td>\n",
       "      <td>-3.874213</td>\n",
       "      <td>-6.232625</td>\n",
       "    </tr>\n",
       "    <tr>\n",
       "      <th>198</th>\n",
       "      <td>195204</td>\n",
       "      <td>39.607143</td>\n",
       "      <td>4.226190</td>\n",
       "      <td>4</td>\n",
       "      <td>2.370749</td>\n",
       "      <td>1.855441</td>\n",
       "    </tr>\n",
       "    <tr>\n",
       "      <th>264</th>\n",
       "      <td>195205</td>\n",
       "      <td>44.666667</td>\n",
       "      <td>7.037037</td>\n",
       "      <td>5</td>\n",
       "      <td>9.482356</td>\n",
       "      <td>-2.445319</td>\n",
       "    </tr>\n",
       "    <tr>\n",
       "      <th>330</th>\n",
       "      <td>195206</td>\n",
       "      <td>56.500000</td>\n",
       "      <td>13.611111</td>\n",
       "      <td>6</td>\n",
       "      <td>14.661728</td>\n",
       "      <td>-1.050617</td>\n",
       "    </tr>\n",
       "    <tr>\n",
       "      <th>396</th>\n",
       "      <td>195207</td>\n",
       "      <td>61.214286</td>\n",
       "      <td>16.230159</td>\n",
       "      <td>7</td>\n",
       "      <td>16.520986</td>\n",
       "      <td>-0.290827</td>\n",
       "    </tr>\n",
       "    <tr>\n",
       "      <th>462</th>\n",
       "      <td>195208</td>\n",
       "      <td>57.483871</td>\n",
       "      <td>14.157706</td>\n",
       "      <td>8</td>\n",
       "      <td>15.045650</td>\n",
       "      <td>-0.887943</td>\n",
       "    </tr>\n",
       "    <tr>\n",
       "      <th>528</th>\n",
       "      <td>195209</td>\n",
       "      <td>47.230769</td>\n",
       "      <td>8.461538</td>\n",
       "      <td>9</td>\n",
       "      <td>9.934222</td>\n",
       "      <td>-1.472683</td>\n",
       "    </tr>\n",
       "    <tr>\n",
       "      <th>594</th>\n",
       "      <td>195210</td>\n",
       "      <td>35.892857</td>\n",
       "      <td>2.162698</td>\n",
       "      <td>10</td>\n",
       "      <td>4.952240</td>\n",
       "      <td>-2.789542</td>\n",
       "    </tr>\n",
       "    <tr>\n",
       "      <th>660</th>\n",
       "      <td>195211</td>\n",
       "      <td>27.714286</td>\n",
       "      <td>-2.380952</td>\n",
       "      <td>11</td>\n",
       "      <td>0.245195</td>\n",
       "      <td>-2.626148</td>\n",
       "    </tr>\n",
       "    <tr>\n",
       "      <th>725</th>\n",
       "      <td>195212</td>\n",
       "      <td>26.760000</td>\n",
       "      <td>-2.911111</td>\n",
       "      <td>12</td>\n",
       "      <td>-4.165641</td>\n",
       "      <td>1.254530</td>\n",
       "    </tr>\n",
       "    <tr>\n",
       "      <th>1</th>\n",
       "      <td>195301</td>\n",
       "      <td>22.285714</td>\n",
       "      <td>-5.396825</td>\n",
       "      <td>1</td>\n",
       "      <td>-5.838761</td>\n",
       "      <td>0.441936</td>\n",
       "    </tr>\n",
       "    <tr>\n",
       "      <th>67</th>\n",
       "      <td>195302</td>\n",
       "      <td>16.407407</td>\n",
       "      <td>-8.662551</td>\n",
       "      <td>2</td>\n",
       "      <td>-7.064088</td>\n",
       "      <td>-1.598464</td>\n",
       "    </tr>\n",
       "    <tr>\n",
       "      <th>133</th>\n",
       "      <td>195303</td>\n",
       "      <td>31.130435</td>\n",
       "      <td>-0.483092</td>\n",
       "      <td>3</td>\n",
       "      <td>-3.874213</td>\n",
       "      <td>3.391121</td>\n",
       "    </tr>\n",
       "    <tr>\n",
       "      <th>199</th>\n",
       "      <td>195304</td>\n",
       "      <td>39.962963</td>\n",
       "      <td>4.423868</td>\n",
       "      <td>4</td>\n",
       "      <td>2.370749</td>\n",
       "      <td>2.053119</td>\n",
       "    </tr>\n",
       "    <tr>\n",
       "      <th>265</th>\n",
       "      <td>195305</td>\n",
       "      <td>48.677419</td>\n",
       "      <td>9.265233</td>\n",
       "      <td>5</td>\n",
       "      <td>9.482356</td>\n",
       "      <td>-0.217123</td>\n",
       "    </tr>\n",
       "    <tr>\n",
       "      <th>331</th>\n",
       "      <td>195306</td>\n",
       "      <td>62.666667</td>\n",
       "      <td>17.037037</td>\n",
       "      <td>6</td>\n",
       "      <td>14.661728</td>\n",
       "      <td>2.375309</td>\n",
       "    </tr>\n",
       "    <tr>\n",
       "      <th>397</th>\n",
       "      <td>195307</td>\n",
       "      <td>62.720000</td>\n",
       "      <td>17.066667</td>\n",
       "      <td>7</td>\n",
       "      <td>16.520986</td>\n",
       "      <td>0.545681</td>\n",
       "    </tr>\n",
       "    <tr>\n",
       "      <th>463</th>\n",
       "      <td>195308</td>\n",
       "      <td>59.206897</td>\n",
       "      <td>15.114943</td>\n",
       "      <td>8</td>\n",
       "      <td>15.045650</td>\n",
       "      <td>0.069293</td>\n",
       "    </tr>\n",
       "    <tr>\n",
       "      <th>529</th>\n",
       "      <td>195309</td>\n",
       "      <td>49.370370</td>\n",
       "      <td>9.650206</td>\n",
       "      <td>9</td>\n",
       "      <td>9.934222</td>\n",
       "      <td>-0.284016</td>\n",
       "    </tr>\n",
       "    <tr>\n",
       "      <th>595</th>\n",
       "      <td>195310</td>\n",
       "      <td>45.000000</td>\n",
       "      <td>7.222222</td>\n",
       "      <td>10</td>\n",
       "      <td>4.952240</td>\n",
       "      <td>2.269982</td>\n",
       "    </tr>\n",
       "    <tr>\n",
       "      <th>661</th>\n",
       "      <td>195311</td>\n",
       "      <td>34.535714</td>\n",
       "      <td>1.408730</td>\n",
       "      <td>11</td>\n",
       "      <td>0.245195</td>\n",
       "      <td>1.163535</td>\n",
       "    </tr>\n",
       "    <tr>\n",
       "      <th>726</th>\n",
       "      <td>195312</td>\n",
       "      <td>29.677419</td>\n",
       "      <td>-1.290323</td>\n",
       "      <td>12</td>\n",
       "      <td>-4.165641</td>\n",
       "      <td>2.875319</td>\n",
       "    </tr>\n",
       "    <tr>\n",
       "      <th>2</th>\n",
       "      <td>195401</td>\n",
       "      <td>19.269231</td>\n",
       "      <td>-7.072650</td>\n",
       "      <td>1</td>\n",
       "      <td>-5.838761</td>\n",
       "      <td>-1.233888</td>\n",
       "    </tr>\n",
       "    <tr>\n",
       "      <th>68</th>\n",
       "      <td>195402</td>\n",
       "      <td>11.250000</td>\n",
       "      <td>-11.527778</td>\n",
       "      <td>2</td>\n",
       "      <td>-7.064088</td>\n",
       "      <td>-4.463690</td>\n",
       "    </tr>\n",
       "    <tr>\n",
       "      <th>134</th>\n",
       "      <td>195403</td>\n",
       "      <td>29.714286</td>\n",
       "      <td>-1.269841</td>\n",
       "      <td>3</td>\n",
       "      <td>-3.874213</td>\n",
       "      <td>2.604372</td>\n",
       "    </tr>\n",
       "    <tr>\n",
       "      <th>200</th>\n",
       "      <td>195404</td>\n",
       "      <td>34.541667</td>\n",
       "      <td>1.412037</td>\n",
       "      <td>4</td>\n",
       "      <td>2.370749</td>\n",
       "      <td>-0.958712</td>\n",
       "    </tr>\n",
       "    <tr>\n",
       "      <th>266</th>\n",
       "      <td>195405</td>\n",
       "      <td>52.620690</td>\n",
       "      <td>11.455939</td>\n",
       "      <td>5</td>\n",
       "      <td>9.482356</td>\n",
       "      <td>1.973583</td>\n",
       "    </tr>\n",
       "    <tr>\n",
       "      <th>332</th>\n",
       "      <td>195406</td>\n",
       "      <td>57.038462</td>\n",
       "      <td>13.910256</td>\n",
       "      <td>6</td>\n",
       "      <td>14.661728</td>\n",
       "      <td>-0.751472</td>\n",
       "    </tr>\n",
       "    <tr>\n",
       "      <th>...</th>\n",
       "      <td>...</td>\n",
       "      <td>...</td>\n",
       "      <td>...</td>\n",
       "      <td>...</td>\n",
       "      <td>...</td>\n",
       "      <td>...</td>\n",
       "    </tr>\n",
       "    <tr>\n",
       "      <th>327</th>\n",
       "      <td>201505</td>\n",
       "      <td>49.258065</td>\n",
       "      <td>9.587814</td>\n",
       "      <td>5</td>\n",
       "      <td>9.482356</td>\n",
       "      <td>0.105458</td>\n",
       "    </tr>\n",
       "    <tr>\n",
       "      <th>393</th>\n",
       "      <td>201506</td>\n",
       "      <td>56.366667</td>\n",
       "      <td>13.537037</td>\n",
       "      <td>6</td>\n",
       "      <td>14.661728</td>\n",
       "      <td>-1.124691</td>\n",
       "    </tr>\n",
       "    <tr>\n",
       "      <th>459</th>\n",
       "      <td>201507</td>\n",
       "      <td>60.935484</td>\n",
       "      <td>16.075269</td>\n",
       "      <td>7</td>\n",
       "      <td>16.520986</td>\n",
       "      <td>-0.445717</td>\n",
       "    </tr>\n",
       "    <tr>\n",
       "      <th>525</th>\n",
       "      <td>201508</td>\n",
       "      <td>62.064516</td>\n",
       "      <td>16.702509</td>\n",
       "      <td>8</td>\n",
       "      <td>15.045650</td>\n",
       "      <td>1.656859</td>\n",
       "    </tr>\n",
       "    <tr>\n",
       "      <th>591</th>\n",
       "      <td>201509</td>\n",
       "      <td>54.566667</td>\n",
       "      <td>12.537037</td>\n",
       "      <td>9</td>\n",
       "      <td>9.934222</td>\n",
       "      <td>2.602815</td>\n",
       "    </tr>\n",
       "    <tr>\n",
       "      <th>657</th>\n",
       "      <td>201510</td>\n",
       "      <td>41.322581</td>\n",
       "      <td>5.179211</td>\n",
       "      <td>10</td>\n",
       "      <td>4.952240</td>\n",
       "      <td>0.226971</td>\n",
       "    </tr>\n",
       "    <tr>\n",
       "      <th>723</th>\n",
       "      <td>201511</td>\n",
       "      <td>40.266667</td>\n",
       "      <td>4.592593</td>\n",
       "      <td>11</td>\n",
       "      <td>0.245195</td>\n",
       "      <td>4.347397</td>\n",
       "    </tr>\n",
       "    <tr>\n",
       "      <th>788</th>\n",
       "      <td>201512</td>\n",
       "      <td>35.967742</td>\n",
       "      <td>2.204301</td>\n",
       "      <td>12</td>\n",
       "      <td>-4.165641</td>\n",
       "      <td>6.369942</td>\n",
       "    </tr>\n",
       "    <tr>\n",
       "      <th>64</th>\n",
       "      <td>201601</td>\n",
       "      <td>13.580645</td>\n",
       "      <td>-10.232975</td>\n",
       "      <td>1</td>\n",
       "      <td>-5.838761</td>\n",
       "      <td>-4.394214</td>\n",
       "    </tr>\n",
       "    <tr>\n",
       "      <th>130</th>\n",
       "      <td>201602</td>\n",
       "      <td>31.206897</td>\n",
       "      <td>-0.440613</td>\n",
       "      <td>2</td>\n",
       "      <td>-7.064088</td>\n",
       "      <td>6.623475</td>\n",
       "    </tr>\n",
       "    <tr>\n",
       "      <th>196</th>\n",
       "      <td>201603</td>\n",
       "      <td>32.129032</td>\n",
       "      <td>0.071685</td>\n",
       "      <td>3</td>\n",
       "      <td>-3.874213</td>\n",
       "      <td>3.945898</td>\n",
       "    </tr>\n",
       "    <tr>\n",
       "      <th>262</th>\n",
       "      <td>201604</td>\n",
       "      <td>40.366667</td>\n",
       "      <td>4.648148</td>\n",
       "      <td>4</td>\n",
       "      <td>2.370749</td>\n",
       "      <td>2.277399</td>\n",
       "    </tr>\n",
       "    <tr>\n",
       "      <th>328</th>\n",
       "      <td>201605</td>\n",
       "      <td>56.935484</td>\n",
       "      <td>13.853047</td>\n",
       "      <td>5</td>\n",
       "      <td>9.482356</td>\n",
       "      <td>4.370691</td>\n",
       "    </tr>\n",
       "    <tr>\n",
       "      <th>394</th>\n",
       "      <td>201606</td>\n",
       "      <td>59.666667</td>\n",
       "      <td>15.370370</td>\n",
       "      <td>6</td>\n",
       "      <td>14.661728</td>\n",
       "      <td>0.708642</td>\n",
       "    </tr>\n",
       "    <tr>\n",
       "      <th>460</th>\n",
       "      <td>201607</td>\n",
       "      <td>63.354839</td>\n",
       "      <td>17.419355</td>\n",
       "      <td>7</td>\n",
       "      <td>16.520986</td>\n",
       "      <td>0.898369</td>\n",
       "    </tr>\n",
       "    <tr>\n",
       "      <th>526</th>\n",
       "      <td>201608</td>\n",
       "      <td>60.612903</td>\n",
       "      <td>15.896057</td>\n",
       "      <td>8</td>\n",
       "      <td>15.045650</td>\n",
       "      <td>0.850408</td>\n",
       "    </tr>\n",
       "    <tr>\n",
       "      <th>592</th>\n",
       "      <td>201609</td>\n",
       "      <td>54.400000</td>\n",
       "      <td>12.444444</td>\n",
       "      <td>9</td>\n",
       "      <td>9.934222</td>\n",
       "      <td>2.510223</td>\n",
       "    </tr>\n",
       "    <tr>\n",
       "      <th>658</th>\n",
       "      <td>201610</td>\n",
       "      <td>40.096774</td>\n",
       "      <td>4.498208</td>\n",
       "      <td>10</td>\n",
       "      <td>4.952240</td>\n",
       "      <td>-0.454032</td>\n",
       "    </tr>\n",
       "    <tr>\n",
       "      <th>724</th>\n",
       "      <td>201611</td>\n",
       "      <td>31.034483</td>\n",
       "      <td>-0.536398</td>\n",
       "      <td>11</td>\n",
       "      <td>0.245195</td>\n",
       "      <td>-0.781594</td>\n",
       "    </tr>\n",
       "    <tr>\n",
       "      <th>789</th>\n",
       "      <td>201612</td>\n",
       "      <td>30.580645</td>\n",
       "      <td>-0.788530</td>\n",
       "      <td>12</td>\n",
       "      <td>-4.165641</td>\n",
       "      <td>3.377111</td>\n",
       "    </tr>\n",
       "    <tr>\n",
       "      <th>65</th>\n",
       "      <td>201701</td>\n",
       "      <td>26.800000</td>\n",
       "      <td>-2.888889</td>\n",
       "      <td>1</td>\n",
       "      <td>-5.838761</td>\n",
       "      <td>2.949872</td>\n",
       "    </tr>\n",
       "    <tr>\n",
       "      <th>131</th>\n",
       "      <td>201702</td>\n",
       "      <td>26.250000</td>\n",
       "      <td>-3.194444</td>\n",
       "      <td>2</td>\n",
       "      <td>-7.064088</td>\n",
       "      <td>3.869643</td>\n",
       "    </tr>\n",
       "    <tr>\n",
       "      <th>197</th>\n",
       "      <td>201703</td>\n",
       "      <td>33.258065</td>\n",
       "      <td>0.698925</td>\n",
       "      <td>3</td>\n",
       "      <td>-3.874213</td>\n",
       "      <td>4.573138</td>\n",
       "    </tr>\n",
       "    <tr>\n",
       "      <th>263</th>\n",
       "      <td>201704</td>\n",
       "      <td>36.033333</td>\n",
       "      <td>2.240741</td>\n",
       "      <td>4</td>\n",
       "      <td>2.370749</td>\n",
       "      <td>-0.130008</td>\n",
       "    </tr>\n",
       "    <tr>\n",
       "      <th>329</th>\n",
       "      <td>201705</td>\n",
       "      <td>49.032258</td>\n",
       "      <td>9.462366</td>\n",
       "      <td>5</td>\n",
       "      <td>9.482356</td>\n",
       "      <td>-0.019990</td>\n",
       "    </tr>\n",
       "    <tr>\n",
       "      <th>395</th>\n",
       "      <td>201706</td>\n",
       "      <td>56.300000</td>\n",
       "      <td>13.500000</td>\n",
       "      <td>6</td>\n",
       "      <td>14.661728</td>\n",
       "      <td>-1.161728</td>\n",
       "    </tr>\n",
       "    <tr>\n",
       "      <th>461</th>\n",
       "      <td>201707</td>\n",
       "      <td>60.290323</td>\n",
       "      <td>15.716846</td>\n",
       "      <td>7</td>\n",
       "      <td>16.520986</td>\n",
       "      <td>-0.804140</td>\n",
       "    </tr>\n",
       "    <tr>\n",
       "      <th>527</th>\n",
       "      <td>201708</td>\n",
       "      <td>60.290323</td>\n",
       "      <td>15.716846</td>\n",
       "      <td>8</td>\n",
       "      <td>15.045650</td>\n",
       "      <td>0.671196</td>\n",
       "    </tr>\n",
       "    <tr>\n",
       "      <th>593</th>\n",
       "      <td>201709</td>\n",
       "      <td>52.333333</td>\n",
       "      <td>11.296296</td>\n",
       "      <td>9</td>\n",
       "      <td>9.934222</td>\n",
       "      <td>1.362075</td>\n",
       "    </tr>\n",
       "    <tr>\n",
       "      <th>659</th>\n",
       "      <td>201710</td>\n",
       "      <td>48.250000</td>\n",
       "      <td>9.027778</td>\n",
       "      <td>10</td>\n",
       "      <td>4.952240</td>\n",
       "      <td>4.075537</td>\n",
       "    </tr>\n",
       "  </tbody>\n",
       "</table>\n",
       "<p>790 rows × 6 columns</p>\n",
       "</div>"
      ],
      "text/plain": [
       "     DATE_m       TAVG  temp_celsius  Month   ref_temp      Diff\n",
       "0    195201  29.478261     -1.400966      1  -5.838761  4.437795\n",
       "66   195202  24.800000     -4.000000      2  -7.064088  3.064088\n",
       "132  195203  13.807692    -10.106838      3  -3.874213 -6.232625\n",
       "198  195204  39.607143      4.226190      4   2.370749  1.855441\n",
       "264  195205  44.666667      7.037037      5   9.482356 -2.445319\n",
       "330  195206  56.500000     13.611111      6  14.661728 -1.050617\n",
       "396  195207  61.214286     16.230159      7  16.520986 -0.290827\n",
       "462  195208  57.483871     14.157706      8  15.045650 -0.887943\n",
       "528  195209  47.230769      8.461538      9   9.934222 -1.472683\n",
       "594  195210  35.892857      2.162698     10   4.952240 -2.789542\n",
       "660  195211  27.714286     -2.380952     11   0.245195 -2.626148\n",
       "725  195212  26.760000     -2.911111     12  -4.165641  1.254530\n",
       "1    195301  22.285714     -5.396825      1  -5.838761  0.441936\n",
       "67   195302  16.407407     -8.662551      2  -7.064088 -1.598464\n",
       "133  195303  31.130435     -0.483092      3  -3.874213  3.391121\n",
       "199  195304  39.962963      4.423868      4   2.370749  2.053119\n",
       "265  195305  48.677419      9.265233      5   9.482356 -0.217123\n",
       "331  195306  62.666667     17.037037      6  14.661728  2.375309\n",
       "397  195307  62.720000     17.066667      7  16.520986  0.545681\n",
       "463  195308  59.206897     15.114943      8  15.045650  0.069293\n",
       "529  195309  49.370370      9.650206      9   9.934222 -0.284016\n",
       "595  195310  45.000000      7.222222     10   4.952240  2.269982\n",
       "661  195311  34.535714      1.408730     11   0.245195  1.163535\n",
       "726  195312  29.677419     -1.290323     12  -4.165641  2.875319\n",
       "2    195401  19.269231     -7.072650      1  -5.838761 -1.233888\n",
       "68   195402  11.250000    -11.527778      2  -7.064088 -4.463690\n",
       "134  195403  29.714286     -1.269841      3  -3.874213  2.604372\n",
       "200  195404  34.541667      1.412037      4   2.370749 -0.958712\n",
       "266  195405  52.620690     11.455939      5   9.482356  1.973583\n",
       "332  195406  57.038462     13.910256      6  14.661728 -0.751472\n",
       "..      ...        ...           ...    ...        ...       ...\n",
       "327  201505  49.258065      9.587814      5   9.482356  0.105458\n",
       "393  201506  56.366667     13.537037      6  14.661728 -1.124691\n",
       "459  201507  60.935484     16.075269      7  16.520986 -0.445717\n",
       "525  201508  62.064516     16.702509      8  15.045650  1.656859\n",
       "591  201509  54.566667     12.537037      9   9.934222  2.602815\n",
       "657  201510  41.322581      5.179211     10   4.952240  0.226971\n",
       "723  201511  40.266667      4.592593     11   0.245195  4.347397\n",
       "788  201512  35.967742      2.204301     12  -4.165641  6.369942\n",
       "64   201601  13.580645    -10.232975      1  -5.838761 -4.394214\n",
       "130  201602  31.206897     -0.440613      2  -7.064088  6.623475\n",
       "196  201603  32.129032      0.071685      3  -3.874213  3.945898\n",
       "262  201604  40.366667      4.648148      4   2.370749  2.277399\n",
       "328  201605  56.935484     13.853047      5   9.482356  4.370691\n",
       "394  201606  59.666667     15.370370      6  14.661728  0.708642\n",
       "460  201607  63.354839     17.419355      7  16.520986  0.898369\n",
       "526  201608  60.612903     15.896057      8  15.045650  0.850408\n",
       "592  201609  54.400000     12.444444      9   9.934222  2.510223\n",
       "658  201610  40.096774      4.498208     10   4.952240 -0.454032\n",
       "724  201611  31.034483     -0.536398     11   0.245195 -0.781594\n",
       "789  201612  30.580645     -0.788530     12  -4.165641  3.377111\n",
       "65   201701  26.800000     -2.888889      1  -5.838761  2.949872\n",
       "131  201702  26.250000     -3.194444      2  -7.064088  3.869643\n",
       "197  201703  33.258065      0.698925      3  -3.874213  4.573138\n",
       "263  201704  36.033333      2.240741      4   2.370749 -0.130008\n",
       "329  201705  49.032258      9.462366      5   9.482356 -0.019990\n",
       "395  201706  56.300000     13.500000      6  14.661728 -1.161728\n",
       "461  201707  60.290323     15.716846      7  16.520986 -0.804140\n",
       "527  201708  60.290323     15.716846      8  15.045650  0.671196\n",
       "593  201709  52.333333     11.296296      9   9.934222  1.362075\n",
       "659  201710  48.250000      9.027778     10   4.952240  4.075537\n",
       "\n",
       "[790 rows x 6 columns]"
      ]
     },
     "execution_count": 115,
     "metadata": {},
     "output_type": "execute_result"
    }
   ],
   "source": [
    "# sort the join by the value of DATE_m\n",
    "monthly_data = join.sort_values('DATE_m')"
   ]
  },
  {
   "cell_type": "markdown",
   "metadata": {
    "deletable": false,
    "editable": false,
    "nbgrader": {
     "checksum": "16c5c0628a4fa8da0187976d20c2cd08",
     "grade": false,
     "grade_id": "cell-875dcc18eb6ab590",
     "locked": true,
     "schema_version": 1,
     "solution": false
    }
   },
   "source": [
    "- What is the highest value in `Diff` column?\n",
    "   - Print the answer in the cell below"
   ]
  },
  {
   "cell_type": "code",
   "execution_count": 116,
   "metadata": {},
   "outputs": [
    {
     "name": "stdout",
     "output_type": "stream",
     "text": [
      "The the highest value in Diff column is:  8.234722855723811\n"
     ]
    }
   ],
   "source": [
    "print(\"The the highest value in Diff column is: \", join['Diff'].max())"
   ]
  },
  {
   "cell_type": "markdown",
   "metadata": {
    "deletable": false,
    "editable": false,
    "nbgrader": {
     "checksum": "aafbde2279f53b7b9b6cbd8e8b555551",
     "grade": false,
     "grade_id": "cell-99d62d1b7e475fd6",
     "locked": true,
     "schema_version": 1,
     "solution": false
    }
   },
   "source": [
    "#### Done!\n",
    "\n",
    "That's it. Now you are ready with Problems 1-3. If you want, you can still continue with an optional [Problem 4.](Exercise-6-problem-4.ipynb)"
   ]
  }
 ],
 "metadata": {
  "kernelspec": {
   "display_name": "Python 3",
   "language": "python",
   "name": "python3"
  },
  "language_info": {
   "codemirror_mode": {
    "name": "ipython",
    "version": 3
   },
   "file_extension": ".py",
   "mimetype": "text/x-python",
   "name": "python",
   "nbconvert_exporter": "python",
   "pygments_lexer": "ipython3",
   "version": "3.6.6"
  }
 },
 "nbformat": 4,
 "nbformat_minor": 2
}
